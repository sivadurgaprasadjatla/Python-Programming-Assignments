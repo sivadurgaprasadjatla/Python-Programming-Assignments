{
  "nbformat": 4,
  "nbformat_minor": 0,
  "metadata": {
    "colab": {
      "provenance": []
    },
    "kernelspec": {
      "name": "python3",
      "display_name": "Python 3"
    },
    "language_info": {
      "name": "python"
    }
  },
  "cells": [
    {
      "cell_type": "code",
      "execution_count": 1,
      "metadata": {
        "colab": {
          "base_uri": "https://localhost:8080/"
        },
        "id": "vXTlnl5zFHYD",
        "outputId": "6cbdf042-d875-4eec-98f1-8ea9cd512c14"
      },
      "outputs": [
        {
          "output_type": "stream",
          "name": "stdout",
          "text": [
            "21\n"
          ]
        }
      ],
      "source": [
        "#1.\tWrite a Python program to find sum of elements in list?\n",
        "\n",
        "l = [1,2,3,4,5,6]\n",
        "c = 0\n",
        "for i in l :\n",
        "  c = c+i\n",
        "\n",
        "print(c)"
      ]
    },
    {
      "cell_type": "code",
      "source": [
        "#2.\tWrite a Python program to  Multiply all numbers in the list?\n",
        "\n",
        "l = [1,2,3,4,5,6]\n",
        "c = 1\n",
        "for i in l :\n",
        "  c = c*i\n",
        "\n",
        "print(c)\n"
      ],
      "metadata": {
        "colab": {
          "base_uri": "https://localhost:8080/"
        },
        "id": "_JFSvtmKFUFT",
        "outputId": "e15e8c96-6d00-4361-ea62-4c97fcbcd9e9"
      },
      "execution_count": 2,
      "outputs": [
        {
          "output_type": "stream",
          "name": "stdout",
          "text": [
            "720\n"
          ]
        }
      ]
    },
    {
      "cell_type": "code",
      "source": [
        "#3.\tWrite a Python program to find smallest number in a list?\n",
        "\n",
        "l = [1,2,3,4,5,6]\n",
        "c = min(l)\n",
        "\n",
        "\n",
        "print(c)\n"
      ],
      "metadata": {
        "colab": {
          "base_uri": "https://localhost:8080/"
        },
        "id": "gUXfHaMNFXDN",
        "outputId": "f66acbe1-735d-4d57-bc9f-2a686ef33119"
      },
      "execution_count": 3,
      "outputs": [
        {
          "output_type": "stream",
          "name": "stdout",
          "text": [
            "1\n"
          ]
        }
      ]
    },
    {
      "cell_type": "code",
      "source": [
        "#4.\tWrite a Python program to find largest number in a list?\n",
        "\n",
        "l = [1,2,3,4,5,6]\n",
        "c = max(l)\n",
        "\n",
        "\n",
        "print(c)"
      ],
      "metadata": {
        "colab": {
          "base_uri": "https://localhost:8080/"
        },
        "id": "zwR4sbDzFYb0",
        "outputId": "a0b2092e-d0c7-4cec-edd5-35bebc752c1f"
      },
      "execution_count": 4,
      "outputs": [
        {
          "output_type": "stream",
          "name": "stdout",
          "text": [
            "6\n"
          ]
        }
      ]
    },
    {
      "cell_type": "code",
      "source": [
        "# 5.\tWrite a Python program to find second largest number in a list?\n",
        "\n",
        "l = [1,2,3,1,5,7,45,32,23,4]\n",
        "\n",
        "l1 = list(set(l))\n",
        "\n",
        "l1.sort(reverse = True)\n",
        "\n",
        "print(l1[1])"
      ],
      "metadata": {
        "colab": {
          "base_uri": "https://localhost:8080/"
        },
        "id": "S5Ap_qUKFaAG",
        "outputId": "4ce0161f-b2ee-46fa-bcc9-38bcbc0f28a7"
      },
      "execution_count": 23,
      "outputs": [
        {
          "output_type": "stream",
          "name": "stdout",
          "text": [
            "32\n"
          ]
        }
      ]
    },
    {
      "cell_type": "code",
      "source": [
        "# 6.\tWrite a Python program to find N largest elements from a list?\n",
        "\n",
        "l = l = [1,2,3,1,5,7,45,32,23,4]\n",
        "\n",
        "Number = int(input('enter nth largest number to find'))\n",
        "\n",
        "\n",
        "\n",
        "l = list(set(l))\n",
        "\n",
        "l.sort(reverse = True)\n",
        "\n",
        "print(l[Number-1])\n",
        "\n",
        "print(l)"
      ],
      "metadata": {
        "colab": {
          "base_uri": "https://localhost:8080/"
        },
        "id": "HVdWlaWjFbSG",
        "outputId": "024793c3-3fc7-4ba5-ece4-8cd515d472a8"
      },
      "execution_count": 22,
      "outputs": [
        {
          "output_type": "stream",
          "name": "stdout",
          "text": [
            "enter nth largest number to find3\n",
            "23\n",
            "[45, 32, 23, 7, 5, 4, 3, 2, 1]\n"
          ]
        }
      ]
    },
    {
      "cell_type": "code",
      "source": [
        "#7.\tWrite a Python program to print even numbers in a list?\n",
        "\n",
        "\n",
        "l = l = [1,2,3,1,5,7,45,32,23,4]\n",
        "\n",
        "l = list(filter(lambda x : ( x%2 == 0) , l))\n",
        "\n",
        "print(l)"
      ],
      "metadata": {
        "colab": {
          "base_uri": "https://localhost:8080/"
        },
        "id": "NjFTAFrAFcrR",
        "outputId": "4e5e50b1-9709-4f67-ceef-e365790372cd"
      },
      "execution_count": 34,
      "outputs": [
        {
          "output_type": "stream",
          "name": "stdout",
          "text": [
            "[2, 32, 4]\n"
          ]
        }
      ]
    },
    {
      "cell_type": "code",
      "source": [
        "#8.\tWrite a Python program to print odd numbers in a List?\n",
        "\n",
        "l = l = [1,2,3,1,5,7,45,32,23,4]\n",
        "\n",
        "l = list(filter(lambda x : ( x%2 == 1) , l))\n",
        "\n",
        "print(l)\n"
      ],
      "metadata": {
        "colab": {
          "base_uri": "https://localhost:8080/"
        },
        "id": "zBB1jgxwFeEy",
        "outputId": "b47fa49e-5e5b-4ee7-aafa-6d6972c35b28"
      },
      "execution_count": 36,
      "outputs": [
        {
          "output_type": "stream",
          "name": "stdout",
          "text": [
            "[1, 3, 1, 5, 7, 45, 23]\n"
          ]
        }
      ]
    },
    {
      "cell_type": "code",
      "source": [
        "# 9.\tWrite a Python program to Remove empty List from List?\n",
        "\n",
        "l = [[],[1,2,3],2,4,[5],[],4]\n",
        "\n",
        "i = 0\n",
        "\n",
        "while i<len(l):\n",
        "  if type(l[i])== list:\n",
        "    if len(l[i]) == 0 :\n",
        "      l.pop(i)\n",
        "  i = i+1\n",
        "print(l)"
      ],
      "metadata": {
        "colab": {
          "base_uri": "https://localhost:8080/"
        },
        "id": "qnSCfLl8FfY5",
        "outputId": "092d76df-b67d-401a-8ba0-12d45226139a"
      },
      "execution_count": 37,
      "outputs": [
        {
          "output_type": "stream",
          "name": "stdout",
          "text": [
            "[[1, 2, 3], 2, 4, [5], 4]\n"
          ]
        }
      ]
    },
    {
      "cell_type": "code",
      "source": [
        "# 10.\tWrite a Python program to Cloning or Copying a list?\n",
        "\n",
        "l = [1,2,3,4,2,1,4,5,6,7]\n",
        "\n",
        "l1 = l\n",
        "\n",
        "print(l1)\n",
        "\n",
        "#l1 = l[:]\n",
        "#print(l1)\n"
      ],
      "metadata": {
        "colab": {
          "base_uri": "https://localhost:8080/"
        },
        "id": "IURJDpj7Fg1u",
        "outputId": "8d882764-c12c-462d-ef20-f81e53344ca0"
      },
      "execution_count": 48,
      "outputs": [
        {
          "output_type": "stream",
          "name": "stdout",
          "text": [
            "[1, 2, 3, 4, 2, 1, 4, 5, 6, 7]\n"
          ]
        }
      ]
    },
    {
      "cell_type": "code",
      "source": [
        "# 11.\tWrite a Python program to Count occurrences of an element in a list?\n",
        "\n",
        "l = [1,2,3,1,2,3,1,2,4]\n",
        "\n",
        "d = {}\n",
        "\n",
        "for i in l:\n",
        "  if i not in d:\n",
        "    d[i] = l.count(i)\n",
        "print(d)"
      ],
      "metadata": {
        "colab": {
          "base_uri": "https://localhost:8080/"
        },
        "id": "XBeZ7wBsFiBQ",
        "outputId": "65692e8b-2672-4498-9c4f-fb968be6514f"
      },
      "execution_count": 41,
      "outputs": [
        {
          "output_type": "stream",
          "name": "stdout",
          "text": [
            "{1: 3, 2: 3, 3: 2, 4: 1}\n"
          ]
        }
      ]
    },
    {
      "cell_type": "code",
      "source": [],
      "metadata": {
        "id": "-SbKmdMZO-qt"
      },
      "execution_count": null,
      "outputs": []
    }
  ]
}