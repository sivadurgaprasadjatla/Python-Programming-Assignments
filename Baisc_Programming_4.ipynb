{
  "nbformat": 4,
  "nbformat_minor": 0,
  "metadata": {
    "colab": {
      "provenance": []
    },
    "kernelspec": {
      "name": "python3",
      "display_name": "Python 3"
    },
    "language_info": {
      "name": "python"
    }
  },
  "cells": [
    {
      "cell_type": "code",
      "execution_count": 19,
      "metadata": {
        "colab": {
          "base_uri": "https://localhost:8080/"
        },
        "id": "J0VNYgFRi_gT",
        "outputId": "def8c5e7-856e-463d-9b0a-190f19775cca"
      },
      "outputs": [
        {
          "output_type": "stream",
          "name": "stdout",
          "text": [
            "enter a number...6\n",
            "720\n"
          ]
        }
      ],
      "source": [
        "# 1.\tWrite a Python Program to Find the Factorial of a Number?\n",
        "\n",
        "a = 1\n",
        "b = int(input('enter a number...'))\n",
        "\n",
        "for i in range(1,b+1):\n",
        "  a = a*i\n",
        "\n",
        "print(a)"
      ]
    },
    {
      "cell_type": "code",
      "source": [
        "# By recursive method\n",
        "\n",
        "\n",
        "\n",
        "def factorial(n):\n",
        "  if n == 1:\n",
        "    return 1\n",
        "  else :\n",
        "    return n*factorial(n-1)\n",
        "\n",
        "factorial(5)"
      ],
      "metadata": {
        "colab": {
          "base_uri": "https://localhost:8080/"
        },
        "id": "We9NauptkCAM",
        "outputId": "0c500050-f12a-44dc-ebb1-78fab3255e8e"
      },
      "execution_count": 23,
      "outputs": [
        {
          "output_type": "execute_result",
          "data": {
            "text/plain": [
              "120"
            ]
          },
          "metadata": {},
          "execution_count": 23
        }
      ]
    },
    {
      "cell_type": "code",
      "source": [
        "# 2.\tWrite a Python Program to Display the multiplication Table?\n",
        "\n",
        "# Multiplication table (from 1 to 10) in Python\n",
        "\n",
        "num = 12\n",
        "\n",
        "# To take input from the user\n",
        "# num = int(input(\"Display multiplication table of? \"))\n",
        "\n",
        "# Iterate 10 times from i = 1 to 10\n",
        "for i in range(1, 11):\n",
        "   print(num, 'x', i, '=', num*i)\n"
      ],
      "metadata": {
        "colab": {
          "base_uri": "https://localhost:8080/"
        },
        "id": "AVp_BbqgjNBg",
        "outputId": "0bee7407-b018-4a39-9781-40a7fe4611d4"
      },
      "execution_count": 24,
      "outputs": [
        {
          "output_type": "stream",
          "name": "stdout",
          "text": [
            "12 x 1 = 12\n",
            "12 x 2 = 24\n",
            "12 x 3 = 36\n",
            "12 x 4 = 48\n",
            "12 x 5 = 60\n",
            "12 x 6 = 72\n",
            "12 x 7 = 84\n",
            "12 x 8 = 96\n",
            "12 x 9 = 108\n",
            "12 x 10 = 120\n"
          ]
        }
      ]
    },
    {
      "cell_type": "code",
      "source": [
        "# 3.\tWrite a Python Program to Print the Fibonacci sequence?\n",
        "\n",
        "n = int(input('enter number '))\n",
        "l = []\n",
        "for i in range(n):\n",
        "  if i <= 1:\n",
        "    l.append(i)\n",
        "  else:\n",
        "    l.append(l[i-1]+l[i-2])\n",
        "\n",
        "print(l)"
      ],
      "metadata": {
        "colab": {
          "base_uri": "https://localhost:8080/"
        },
        "id": "e4o2pXXNjP6n",
        "outputId": "98cbdbbe-df93-44c8-82ee-414ffed10d93"
      },
      "execution_count": 38,
      "outputs": [
        {
          "output_type": "stream",
          "name": "stdout",
          "text": [
            "enter number 8\n",
            "[0, 1, 1, 2, 3, 5, 8, 13]\n"
          ]
        }
      ]
    },
    {
      "cell_type": "code",
      "source": [
        "# 4.\tWrite a Python Program to Check Armstrong Number?\n",
        "\n",
        "#Armstrong Number   abcd... = a**n + b**n + c**n + d**n + ...\n",
        "\n",
        "a = input('enter a number...')\n",
        "b = len(a)\n",
        "c = 0\n",
        "\n",
        "for i  in a :\n",
        "  c = c + int(i)**b\n",
        "\n",
        "print('final number...',c)\n",
        "\n",
        "if int(a) == c :\n",
        "  print('its a Armstrong Number')\n",
        "\n",
        "else :\n",
        "  print('its not a Armstrong Number.')\n",
        "\n"
      ],
      "metadata": {
        "colab": {
          "base_uri": "https://localhost:8080/"
        },
        "id": "FxDoA007jR8x",
        "outputId": "4ee63a78-35e4-4d11-99aa-e1ab4220fad0"
      },
      "execution_count": 45,
      "outputs": [
        {
          "output_type": "stream",
          "name": "stdout",
          "text": [
            "enter a number...153\n",
            "final number... 153\n",
            "its a Armsttring Number\n"
          ]
        }
      ]
    },
    {
      "cell_type": "code",
      "source": [
        "# 5.\tWrite a Python Program to Find Armstrong Number in an Interval?\n",
        "\n",
        "a = 10\n",
        "b = 1000\n",
        "\n",
        "for i in range(a,b+1):\n",
        "    \n",
        "    d = str(i)\n",
        "    e = 0\n",
        "    for j in d:\n",
        "      e = e + int(j)**len(d)\n",
        "    if e == int(d):\n",
        "      print(i)\n"
      ],
      "metadata": {
        "colab": {
          "base_uri": "https://localhost:8080/"
        },
        "id": "ii62MEqkjTl4",
        "outputId": "5a6f4ae8-cb35-415b-921f-ebc1ac78bfaf"
      },
      "execution_count": 49,
      "outputs": [
        {
          "output_type": "stream",
          "name": "stdout",
          "text": [
            "153\n",
            "370\n",
            "371\n",
            "407\n"
          ]
        }
      ]
    },
    {
      "cell_type": "code",
      "source": [
        "# 6.\tWrite a Python Program to Find the Sum of Natural Numbers?\n",
        "\n",
        "n = int(input('enter a number...'))\n",
        "\n",
        "a = (n+1)*n/2\n",
        "\n",
        "print(a)"
      ],
      "metadata": {
        "colab": {
          "base_uri": "https://localhost:8080/"
        },
        "id": "QbJfonEXjYhl",
        "outputId": "aeb0ebda-2e2a-4075-e144-93dc05fc4a6e"
      },
      "execution_count": 25,
      "outputs": [
        {
          "output_type": "stream",
          "name": "stdout",
          "text": [
            "enter a number...5\n",
            "15.0\n"
          ]
        }
      ]
    },
    {
      "cell_type": "code",
      "source": [
        "n = int(input('enter a number...'))\n",
        "\n",
        "a = 0\n",
        "\n",
        "for i in range(1,n+1):\n",
        "  a = a+i\n",
        "\n",
        "print(a)"
      ],
      "metadata": {
        "colab": {
          "base_uri": "https://localhost:8080/"
        },
        "id": "MEfP1_hLlVi9",
        "outputId": "dc344577-8b27-4fbc-8764-c3b38b347e62"
      },
      "execution_count": 26,
      "outputs": [
        {
          "output_type": "stream",
          "name": "stdout",
          "text": [
            "enter a number...5\n",
            "15\n"
          ]
        }
      ]
    }
  ]
}