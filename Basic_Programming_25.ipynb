{
  "nbformat": 4,
  "nbformat_minor": 0,
  "metadata": {
    "colab": {
      "provenance": []
    },
    "kernelspec": {
      "name": "python3",
      "display_name": "Python 3"
    },
    "language_info": {
      "name": "python"
    }
  },
  "cells": [
    {
      "cell_type": "code",
      "source": [
        "'''Question1\n",
        "Create a function that takes three integer arguments (a, b, c) and returns the amount of integers which are of equal value.\n",
        "Examples\n",
        "equal(3, 4, 3) ➞ 2\n",
        "\n",
        "equal(1, 1, 1) ➞ 3\n",
        "\n",
        "equal(3, 4, 1) ➞ 0 \n",
        "Notes\n",
        "Your function must return 0, 2 or 3.\n",
        "\n",
        "'''"
      ],
      "metadata": {
        "id": "zfCjuwNDpjwx"
      },
      "execution_count": null,
      "outputs": []
    },
    {
      "cell_type": "code",
      "source": [
        "def countfn(a,b,c):\n",
        "  if a ==b and a==c:\n",
        "    print(3)\n",
        "  elif a==b or b==c or a==c:\n",
        "    print(2)\n",
        "\n",
        "  else :\n",
        "    print(0)\n",
        "\n",
        "countfn(3,4,1)\n",
        "\n",
        "  "
      ],
      "metadata": {
        "colab": {
          "base_uri": "https://localhost:8080/"
        },
        "id": "-3XsJBO8x4xC",
        "outputId": "869c87c8-dd07-44e0-b079-f8cc8903ffff"
      },
      "execution_count": 3,
      "outputs": [
        {
          "output_type": "stream",
          "name": "stdout",
          "text": [
            "0\n"
          ]
        }
      ]
    },
    {
      "cell_type": "code",
      "source": [
        "'''\n",
        "Question2\n",
        "Write a function that converts a dictionary into a list of keys-values tuples.\n",
        "Examples\n",
        "dict_to_list({\n",
        "  \"D\": 1,\n",
        "  \"B\": 2,\n",
        "  \"C\": 3\n",
        "}) ➞ [(\"B\", 2), (\"C\", 3), (\"D\", 1)]\n",
        "\n",
        "dict_to_list({\n",
        "  \"likes\": 2,\n",
        "  \"dislikes\": 3,\n",
        "  \"followers\": 10\n",
        "}) ➞ [(\"dislikes\", 3), (\"followers\", 10), (\"likes\", 2)]\n",
        "Notes\n",
        "Return the elements in the list in alphabetical order.\n",
        "\n",
        "'''"
      ],
      "metadata": {
        "id": "Osn1FoMkxmE4"
      },
      "execution_count": null,
      "outputs": []
    },
    {
      "cell_type": "code",
      "source": [
        "def dictfn(a):\n",
        "  l= []\n",
        "  for i in a.items():\n",
        "    l.append((i))\n",
        "\n",
        "  print(l)\n",
        "\n",
        "\n",
        "dictfn({\"D\": 1,\"B\": 2,\"C\": 3})\n",
        "\n",
        "\n"
      ],
      "metadata": {
        "colab": {
          "base_uri": "https://localhost:8080/"
        },
        "id": "Tyfmd8CdyiA-",
        "outputId": "8f493cb2-76df-4933-daa9-8338cb4bdc64"
      },
      "execution_count": 7,
      "outputs": [
        {
          "output_type": "stream",
          "name": "stdout",
          "text": [
            "[('D', 1), ('B', 2), ('C', 3)]\n"
          ]
        }
      ]
    },
    {
      "cell_type": "code",
      "source": [
        "'''\n",
        "Question3\n",
        "Write a function that creates a dictionary with each (key, value) pair being the (lower case, upper case) versions of a letter, respectively.\n",
        "Examples\n",
        "mapping([\"p\", \"s\"]) ➞ { \"p\": \"P\", \"s\": \"S\" }\n",
        "\n",
        "mapping([\"a\", \"b\", \"c\"]) ➞ { \"a\": \"A\", \"b\": \"B\", \"c\": \"C\" }\n",
        "\n",
        "mapping([\"a\", \"v\", \"y\", \"z\"]) ➞ { \"a\": \"A\", \"v\": \"V\", \"y\": \"Y\", \"z\": \"Z\" }\n",
        "Notes\n",
        "All of the letters in the input list will always be lowercase.\n",
        "\n",
        "'''\n"
      ],
      "metadata": {
        "id": "ZmU7X99Exori"
      },
      "execution_count": null,
      "outputs": []
    },
    {
      "cell_type": "code",
      "source": [
        "def dictfn2(a):\n",
        "  d = {}\n",
        "\n",
        "  for i in a:\n",
        "    d[i]= i.upper()\n",
        "\n",
        "  print(d)\n",
        "\n",
        "dictfn2([\"a\", \"b\", \"c\"])"
      ],
      "metadata": {
        "colab": {
          "base_uri": "https://localhost:8080/"
        },
        "id": "PGbhd29OzVgl",
        "outputId": "96c32ade-d8a1-4bb7-eb89-4e44e547813a"
      },
      "execution_count": 10,
      "outputs": [
        {
          "output_type": "stream",
          "name": "stdout",
          "text": [
            "{'a': 'A', 'b': 'B', 'c': 'C'}\n"
          ]
        }
      ]
    },
    {
      "cell_type": "code",
      "source": [
        "'''\n",
        "Question4\n",
        "Write a function, that replaces all vowels in a string with a specified vowel.\n",
        "Examples\n",
        "vow_replace(\"apples and bananas\", \"u\") ➞ \"upplus und bununus\"\n",
        "\n",
        "vow_replace(\"cheese casserole\", \"o\") ➞ \"chooso cossorolo\"\n",
        "\n",
        "vow_replace(\"stuffed jalapeno poppers\", \"e\") ➞ \"steffed jelepene peppers\"\n",
        "Notes\n",
        "All words will be lowercase. Y is not considered a vowel.\n",
        "'''\n"
      ],
      "metadata": {
        "id": "XVQyxdRaxrHQ"
      },
      "execution_count": null,
      "outputs": []
    },
    {
      "cell_type": "code",
      "source": [
        "# Function to Replace each vowel in\n",
        "# the string with a specified character\n",
        "\n",
        "\n",
        "def replaceVowelsWithK(test_str, K):\n",
        "\n",
        "\t# string of vowels\n",
        "\tvowels = 'AEIOUaeiou'\n",
        "\n",
        "\t# iterating to check vowels in string\n",
        "\tfor ele in vowels:\n",
        "\n",
        "\t\t# replacing vowel with the specified character\n",
        "\t\ttest_str = test_str.replace(ele, K)\n",
        "\n",
        "\treturn test_str\n",
        "\n",
        "\n",
        "# Driver Code\n",
        "# input string\n",
        "input_str = \"Geeks for Geeks\"\n",
        "\n",
        "# specified character\n",
        "K = \"#\"\n",
        "\n",
        "# printing input\n",
        "print(\"Given String:\", input_str)\n",
        "print(\"Given Specified Character:\", K)\n",
        "\n",
        "# printing output\n",
        "print(\"After replacing vowels with the specified character:\",\n",
        "\treplaceVowelsWithK(input_str, K))\n"
      ],
      "metadata": {
        "colab": {
          "base_uri": "https://localhost:8080/"
        },
        "id": "Bt33ahsAz1j0",
        "outputId": "5644459b-e36f-4d5a-d892-1422d4987127"
      },
      "execution_count": 28,
      "outputs": [
        {
          "output_type": "stream",
          "name": "stdout",
          "text": [
            "Given String: Geeks for Geeks\n",
            "Given Specified Character: #\n",
            "After replacing vowels with the specified character: G##ks f#r G##ks\n"
          ]
        }
      ]
    },
    {
      "cell_type": "code",
      "source": [
        "strfn('i am siva')"
      ],
      "metadata": {
        "colab": {
          "base_uri": "https://localhost:8080/"
        },
        "id": "vklx0HS60mjc",
        "outputId": "1c091bd0-f502-47f1-e8c4-68a60e91cde9"
      },
      "execution_count": 27,
      "outputs": [
        {
          "output_type": "stream",
          "name": "stdout",
          "text": [
            "u am suva i um sivum su am suvavi um sivu\n"
          ]
        }
      ]
    },
    {
      "cell_type": "code",
      "source": [
        "\n",
        "'''\n",
        "Question5\n",
        "Create a function that takes a string as input and capitalizes a letter if its ASCII code is even and returns its lower case version if its ASCII code is odd.\n",
        "Examples\n",
        "ascii_capitalize(\"to be or not to be!\") ➞ \"To Be oR NoT To Be!\"\n",
        "\n",
        "ascii_capitalize(\"THE LITTLE MERMAID\") ➞ \"THe LiTTLe meRmaiD\"\n",
        "\n",
        "ascii_capitalize(\"Oh what a beautiful morning.\") ➞ \"oH wHaT a BeauTiFuL moRNiNg.\"\n",
        "\n",
        "'''"
      ],
      "metadata": {
        "colab": {
          "base_uri": "https://localhost:8080/",
          "height": 70
        },
        "id": "yRm0sJLlxsoO",
        "outputId": "cd4966c4-d05a-4237-9a02-0511487034d3"
      },
      "execution_count": 29,
      "outputs": [
        {
          "output_type": "execute_result",
          "data": {
            "text/plain": [
              "'\\nQuestion5\\nCreate a function that takes a string as input and capitalizes a letter if its ASCII code is even and returns its lower case version if its ASCII code is odd.\\nExamples\\nascii_capitalize(\"to be or not to be!\") ➞ \"To Be oR NoT To Be!\"\\n\\nascii_capitalize(\"THE LITTLE MERMAID\") ➞ \"THe LiTTLe meRmaiD\"\\n\\nascii_capitalize(\"Oh what a beautiful morning.\") ➞ \"oH wHaT a BeauTiFuL moRNiNg.\"\\n\\n'"
            ],
            "application/vnd.google.colaboratory.intrinsic+json": {
              "type": "string"
            }
          },
          "metadata": {},
          "execution_count": 29
        }
      ]
    },
    {
      "cell_type": "code",
      "source": [
        "def ascii_fun(a) :\n",
        "  l =[] \n",
        "  for i in a: \n",
        "    if ord(i)%2 == 0:\n",
        "      l.append(i.upper())\n",
        "\n",
        "    else:\n",
        "       l.append(i.lower())\n",
        "\n",
        "  return(''.join(l))"
      ],
      "metadata": {
        "id": "WyQknaJriPLI"
      },
      "execution_count": 25,
      "outputs": []
    },
    {
      "cell_type": "code",
      "source": [
        "ascii_fun('i am siva')"
      ],
      "metadata": {
        "colab": {
          "base_uri": "https://localhost:8080/",
          "height": 35
        },
        "id": "mNdTt8w4ify_",
        "outputId": "8cd7ae9b-7e80-48fd-a95c-264c89e1b195"
      },
      "execution_count": 26,
      "outputs": [
        {
          "output_type": "execute_result",
          "data": {
            "text/plain": [
              "'i am siVa'"
            ],
            "application/vnd.google.colaboratory.intrinsic+json": {
              "type": "string"
            }
          },
          "metadata": {},
          "execution_count": 26
        }
      ]
    },
    {
      "cell_type": "code",
      "source": [],
      "metadata": {
        "id": "0DPAjeU9kXPK"
      },
      "execution_count": null,
      "outputs": []
    }
  ]
}