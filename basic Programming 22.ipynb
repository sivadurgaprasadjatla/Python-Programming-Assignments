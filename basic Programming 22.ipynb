{
 "cells": [
  {
   "cell_type": "code",
   "execution_count": 1,
   "id": "5556d81d",
   "metadata": {},
   "outputs": [
    {
     "data": {
      "text/plain": [
       "'\\nQuestion1\\nCreate a function that takes three parameters where:\\n•\\tx is the start of the range (inclusive).\\n•\\ty is the end of the range (inclusive).\\n•\\tn is the divisor to be checked against.\\nReturn an ordered list with numbers in the range that are divisible by the third parameter n. Return an empty list if there are no numbers that are divisible by n.\\nExamples\\nlist_operation(1, 10, 3) ➞ [3, 6, 9]\\n\\nlist_operation(7, 9, 2) ➞ [8]\\n\\nlist_operation(15, 20, 7) ➞ []\\n'"
      ]
     },
     "execution_count": 1,
     "metadata": {},
     "output_type": "execute_result"
    }
   ],
   "source": [
    "'''\n",
    "Question1\n",
    "Create a function that takes three parameters where:\n",
    "•\tx is the start of the range (inclusive).\n",
    "•\ty is the end of the range (inclusive).\n",
    "•\tn is the divisor to be checked against.\n",
    "Return an ordered list with numbers in the range that are divisible by the third parameter n. Return an empty list if there are no numbers that are divisible by n.\n",
    "Examples\n",
    "list_operation(1, 10, 3) ➞ [3, 6, 9]\n",
    "\n",
    "list_operation(7, 9, 2) ➞ [8]\n",
    "\n",
    "list_operation(15, 20, 7) ➞ []\n",
    "'''"
   ]
  },
  {
   "cell_type": "code",
   "execution_count": 8,
   "id": "b37e5dd2",
   "metadata": {},
   "outputs": [
    {
     "data": {
      "text/plain": [
       "[3, 6, 9]"
      ]
     },
     "execution_count": 8,
     "metadata": {},
     "output_type": "execute_result"
    }
   ],
   "source": [
    "def list_ope(a):\n",
    "    l=[]\n",
    "    for i in range(a[0],a[1]):\n",
    "        if i%a[2] == 0 :\n",
    "            l.append(i)\n",
    "    return l\n",
    "            \n",
    "list_ope([1,10,3])"
   ]
  },
  {
   "cell_type": "code",
   "execution_count": 9,
   "id": "c55d0f91",
   "metadata": {},
   "outputs": [
    {
     "data": {
      "text/plain": [
       "'\\nQuestion2\\nCreate a function that takes in two lists and returns True if the second list follows the first list by one element, and False otherwise. In other words, determine if the second list is the first list shifted to the right by 1.\\nExamples\\nsimon_says([1, 2], [5, 1]) ➞ True\\n\\nsimon_says([1, 2], [5, 5]) ➞ False\\n\\nsimon_says([1, 2, 3, 4, 5], [0, 1, 2, 3, 4]) ➞ True\\n\\nsimon_says([1, 2, 3, 4, 5], [5, 5, 1, 2, 3]) ➞ False\\nNotes\\n•\\tBoth input lists will be of the same length, and will have a minimum length of 2.\\n•\\tThe values of the 0-indexed element in the second list and the n-1th indexed element in the first list do not matter.\\n'"
      ]
     },
     "execution_count": 9,
     "metadata": {},
     "output_type": "execute_result"
    }
   ],
   "source": [
    "'''\n",
    "Question2\n",
    "Create a function that takes in two lists and returns True if the second list follows the first list by one element, and False otherwise. In other words, determine if the second list is the first list shifted to the right by 1.\n",
    "Examples\n",
    "simon_says([1, 2], [5, 1]) ➞ True\n",
    "\n",
    "simon_says([1, 2], [5, 5]) ➞ False\n",
    "\n",
    "simon_says([1, 2, 3, 4, 5], [0, 1, 2, 3, 4]) ➞ True\n",
    "\n",
    "simon_says([1, 2, 3, 4, 5], [5, 5, 1, 2, 3]) ➞ False\n",
    "Notes\n",
    "•\tBoth input lists will be of the same length, and will have a minimum length of 2.\n",
    "•\tThe values of the 0-indexed element in the second list and the n-1th indexed element in the first list do not matter.\n",
    "'''\n"
   ]
  },
  {
   "cell_type": "code",
   "execution_count": 10,
   "id": "bd47f3b3",
   "metadata": {},
   "outputs": [
    {
     "data": {
      "text/plain": [
       "'\\nQuestion3\\nA group of friends have decided to start a secret society. The name will be the first letter of each of their names, sorted in alphabetical order.\\nCreate a function that takes in a list of names and returns the name of the secret society.\\nExamples\\nsociety_name([\"Adam\", \"Sarah\", \"Malcolm\"]) ➞ \"AMS\"\\n\\nsociety_name([\"Harry\", \"Newt\", \"Luna\", \"Cho\"]) ➞ \"CHLN\"\\n\\nsociety_name([\"Phoebe\", \"Chandler\", \"Rachel\", \"Ross\", \"Monica\", \"Joey\"])\\n\\n'"
      ]
     },
     "execution_count": 10,
     "metadata": {},
     "output_type": "execute_result"
    }
   ],
   "source": [
    "'''\n",
    "Question3\n",
    "A group of friends have decided to start a secret society. The name will be the first letter of each of their names, sorted in alphabetical order.\n",
    "Create a function that takes in a list of names and returns the name of the secret society.\n",
    "Examples\n",
    "society_name([\"Adam\", \"Sarah\", \"Malcolm\"]) ➞ \"AMS\"\n",
    "\n",
    "society_name([\"Harry\", \"Newt\", \"Luna\", \"Cho\"]) ➞ \"CHLN\"\n",
    "\n",
    "society_name([\"Phoebe\", \"Chandler\", \"Rachel\", \"Ross\", \"Monica\", \"Joey\"])\n",
    "\n",
    "'''"
   ]
  },
  {
   "cell_type": "code",
   "execution_count": 22,
   "id": "6c205444",
   "metadata": {},
   "outputs": [],
   "source": [
    "def group_name(a):\n",
    "    l = []   \n",
    "    for i in a:\n",
    "        l.append(i[0])\n",
    "        \n",
    "    l =sorted(l)\n",
    "        \n",
    "    return ''.join(l)\n",
    "        \n",
    "        "
   ]
  },
  {
   "cell_type": "code",
   "execution_count": 23,
   "id": "fce4c3fd",
   "metadata": {},
   "outputs": [
    {
     "data": {
      "text/plain": [
       "'AMS'"
      ]
     },
     "execution_count": 23,
     "metadata": {},
     "output_type": "execute_result"
    }
   ],
   "source": [
    "group_name([\"Adam\", \"Sarah\", \"Malcolm\"])"
   ]
  },
  {
   "cell_type": "code",
   "execution_count": 24,
   "id": "ab2b6621",
   "metadata": {},
   "outputs": [
    {
     "data": {
      "text/plain": [
       "'CHLN'"
      ]
     },
     "execution_count": 24,
     "metadata": {},
     "output_type": "execute_result"
    }
   ],
   "source": [
    "group_name([\"Harry\", \"Newt\", \"Luna\", \"Cho\"])"
   ]
  },
  {
   "cell_type": "code",
   "execution_count": 25,
   "id": "f90bfd55",
   "metadata": {},
   "outputs": [
    {
     "data": {
      "text/plain": [
       "'\\nQuestion4\\nAn isogram is a word that has no duplicate letters. Create a function that takes a string and returns either True or False depending on whether or not it\\'s an \"isogram\".\\nExamples\\nis_isogram(\"Algorism\") ➞ True\\n\\nis_isogram(\"PasSword\") ➞ False\\n# Not case sensitive.\\n\\nis_isogram(\"Consecutive\") ➞ False\\nNotes\\n•\\tIgnore letter case (should not be case sensitive).\\n•\\tAll test cases contain valid one word strings.\\n'"
      ]
     },
     "execution_count": 25,
     "metadata": {},
     "output_type": "execute_result"
    }
   ],
   "source": [
    "\n",
    "'''\n",
    "Question4\n",
    "An isogram is a word that has no duplicate letters. Create a function that takes a string and returns either True or False depending on whether or not it's an \"isogram\".\n",
    "Examples\n",
    "is_isogram(\"Algorism\") ➞ True\n",
    "\n",
    "is_isogram(\"PasSword\") ➞ False\n",
    "# Not case sensitive.\n",
    "\n",
    "is_isogram(\"Consecutive\") ➞ False\n",
    "Notes\n",
    "•\tIgnore letter case (should not be case sensitive).\n",
    "•\tAll test cases contain valid one word strings.\n",
    "'''"
   ]
  },
  {
   "cell_type": "code",
   "execution_count": 30,
   "id": "129d8009",
   "metadata": {},
   "outputs": [
    {
     "data": {
      "text/plain": [
       "True"
      ]
     },
     "execution_count": 30,
     "metadata": {},
     "output_type": "execute_result"
    }
   ],
   "source": [
    "def is_isogram(a):\n",
    "    for i in a:\n",
    "        if a.count(i.upper())==1 and  a.count(i.lower())==1 :\n",
    "            return False\n",
    "            break\n",
    "        elif a.count(i)>1:\n",
    "            return False\n",
    "            break\n",
    "    else :\n",
    "            return  True\n",
    "        \n",
    "is_isogram(\"Algorism\")\n",
    "        "
   ]
  },
  {
   "cell_type": "code",
   "execution_count": 31,
   "id": "2e813042",
   "metadata": {},
   "outputs": [
    {
     "data": {
      "text/plain": [
       "'\\nQuestion5\\nCreate a function that takes a string and returns True or False, depending on whether the characters are in order or not.\\nExamples\\nis_in_order(\"abc\") ➞ True\\n\\nis_in_order(\"edabit\") ➞ False\\n\\nis_in_order(\"123\") ➞ True\\n\\nis_in_order(\"xyzz\") ➞ True\\nNotes\\nYou don\\'t have to handle empty strings.\\n\\n'"
      ]
     },
     "execution_count": 31,
     "metadata": {},
     "output_type": "execute_result"
    }
   ],
   "source": [
    "'''\n",
    "Question5\n",
    "Create a function that takes a string and returns True or False, depending on whether the characters are in order or not.\n",
    "Examples\n",
    "is_in_order(\"abc\") ➞ True\n",
    "\n",
    "is_in_order(\"edabit\") ➞ False\n",
    "\n",
    "is_in_order(\"123\") ➞ True\n",
    "\n",
    "is_in_order(\"xyzz\") ➞ True\n",
    "Notes\n",
    "You don't have to handle empty strings.\n",
    "\n",
    "'''"
   ]
  },
  {
   "cell_type": "code",
   "execution_count": 40,
   "id": "f68b53cd",
   "metadata": {},
   "outputs": [
    {
     "data": {
      "text/plain": [
       "False"
      ]
     },
     "execution_count": 40,
     "metadata": {},
     "output_type": "execute_result"
    }
   ],
   "source": [
    "def is_in_order(a):\n",
    "    l = []\n",
    "    \n",
    "    for i in a:\n",
    "        l.append(i)\n",
    "        \n",
    "    l = sorted(l)\n",
    "    if a == ''.join(l):\n",
    "        return True\n",
    "    else :\n",
    "        return False\n",
    "     \n",
    "    \n",
    "is_in_order('321')"
   ]
  },
  {
   "cell_type": "code",
   "execution_count": null,
   "id": "09789eb3",
   "metadata": {},
   "outputs": [],
   "source": []
  }
 ],
 "metadata": {
  "kernelspec": {
   "display_name": "Python 3 (ipykernel)",
   "language": "python",
   "name": "python3"
  },
  "language_info": {
   "codemirror_mode": {
    "name": "ipython",
    "version": 3
   },
   "file_extension": ".py",
   "mimetype": "text/x-python",
   "name": "python",
   "nbconvert_exporter": "python",
   "pygments_lexer": "ipython3",
   "version": "3.9.12"
  }
 },
 "nbformat": 4,
 "nbformat_minor": 5
}
