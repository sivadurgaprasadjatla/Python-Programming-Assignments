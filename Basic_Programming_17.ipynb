{
  "nbformat": 4,
  "nbformat_minor": 0,
  "metadata": {
    "colab": {
      "provenance": []
    },
    "kernelspec": {
      "name": "python3",
      "display_name": "Python 3"
    },
    "language_info": {
      "name": "python"
    }
  },
  "cells": [
    {
      "cell_type": "markdown",
      "source": [
        "Question1. \n",
        "\n",
        "Create a function that takes three arguments a, b, c and returns the sum of the numbers that are evenly divided by c from the range a, b inclusive.\n",
        "Examples\n",
        "evenly_divisible(1, 10, 20) ➞ 0\n",
        "# No number between 1 and 10 can be evenly divided by 20.\n",
        "\n",
        "evenly_divisible(1, 10, 2) ➞ 30\n",
        "# 2 + 4 + 6 + 8 + 10 = 30\n",
        "\n",
        "evenly_divisible(1, 10, 3) ➞ 18\n",
        "# 3 + 6 + 9 = 18\n"
      ],
      "metadata": {
        "id": "MHpvcJgbluTl"
      }
    },
    {
      "cell_type": "code",
      "source": [
        "def arguments(a,b,c):\n",
        "  sum = 0\n",
        "  for i  in range(a,b+1):\n",
        "    if i%c == 0:\n",
        "      sum = sum+i\n",
        "\n",
        "  return sum\n",
        "\n",
        "arguments(1,10,3)\n"
      ],
      "metadata": {
        "colab": {
          "base_uri": "https://localhost:8080/"
        },
        "id": "KYqNmaw7mKvH",
        "outputId": "00b9e4f1-40b3-4c94-84b4-7ce09d30c3aa"
      },
      "execution_count": 121,
      "outputs": [
        {
          "output_type": "execute_result",
          "data": {
            "text/plain": [
              "18"
            ]
          },
          "metadata": {},
          "execution_count": 121
        }
      ]
    },
    {
      "cell_type": "code",
      "source": [
        "arguments(1,10,2)"
      ],
      "metadata": {
        "colab": {
          "base_uri": "https://localhost:8080/"
        },
        "id": "L1rxhRvommh8",
        "outputId": "436ce7ca-f61b-455c-a385-6b23634dfef1"
      },
      "execution_count": 122,
      "outputs": [
        {
          "output_type": "execute_result",
          "data": {
            "text/plain": [
              "30"
            ]
          },
          "metadata": {},
          "execution_count": 122
        }
      ]
    },
    {
      "cell_type": "markdown",
      "source": [
        "**Question2. **\n",
        "\n",
        "Create a function that returns True if a given inequality expression is correct and False otherwise.\n",
        "Examples\n",
        "correct_signs(\"3 < 7 < 11\") ➞ True\n",
        "\n",
        "correct_signs(\"13 > 44 > 33 > 1\") ➞ False\n",
        "\n",
        "correct_signs(\"1 < 2 < 6 < 9 > 3\") ➞ True\n"
      ],
      "metadata": {
        "id": "nIXuMCmwmsnf"
      }
    },
    {
      "cell_type": "code",
      "source": [
        "def correct_signs(a):\n",
        "  b = eval(a)\n",
        "\n",
        "  if b is True:\n",
        "    return True\n",
        "  else :\n",
        "    return False\n",
        "\n",
        "correct_signs(\"3 < 7 < 11\")"
      ],
      "metadata": {
        "colab": {
          "base_uri": "https://localhost:8080/"
        },
        "id": "DWdoRAvEmrUP",
        "outputId": "518ce05b-06c2-4483-e5f8-eb4804b039c6"
      },
      "execution_count": 123,
      "outputs": [
        {
          "output_type": "execute_result",
          "data": {
            "text/plain": [
              "True"
            ]
          },
          "metadata": {},
          "execution_count": 123
        }
      ]
    },
    {
      "cell_type": "code",
      "source": [
        "correct_signs(\"13 > 44 > 33 > 1\")"
      ],
      "metadata": {
        "colab": {
          "base_uri": "https://localhost:8080/"
        },
        "id": "xSTeuWRCnKxD",
        "outputId": "e77b2c2a-9367-4793-c8ba-efe69980e142"
      },
      "execution_count": 125,
      "outputs": [
        {
          "output_type": "execute_result",
          "data": {
            "text/plain": [
              "False"
            ]
          },
          "metadata": {},
          "execution_count": 125
        }
      ]
    },
    {
      "cell_type": "code",
      "source": [
        "correct_signs(\"1 < 2 < 6 < 9 > 3\")"
      ],
      "metadata": {
        "colab": {
          "base_uri": "https://localhost:8080/"
        },
        "id": "BfJKk3jQnOM0",
        "outputId": "8fac13cc-1529-4a0a-e48f-a696643264f8"
      },
      "execution_count": 126,
      "outputs": [
        {
          "output_type": "execute_result",
          "data": {
            "text/plain": [
              "True"
            ]
          },
          "metadata": {},
          "execution_count": 126
        }
      ]
    },
    {
      "cell_type": "markdown",
      "source": [
        "**Question3.** \n",
        "\n",
        "Create a function that replaces all the vowels in a string with a specified character.\n",
        "Examples\n",
        "replace_vowels(\"the aardvark\", \"#\") ➞ \"th# ##rdv#rk\"\n",
        "\n",
        "replace_vowels(\"minnie mouse\", \"?\") ➞ \"m?nn?? m??s?\"\n",
        "\n",
        "replace_vowels(\"shakespeare\", \"*\") ➞ \"sh*k*sp**r*\"\n"
      ],
      "metadata": {
        "id": "XSw6BKfTnV9M"
      }
    },
    {
      "cell_type": "code",
      "source": [
        "def replace_vowels(a):\n",
        "  vow = 'aeiouAEIOU'\n",
        "  b = ''\n",
        "  for i in a:\n",
        "    if i in vow:\n",
        "      b = b+ i.replace(i,'#')\n",
        "    else :\n",
        "      b =b+i\n",
        "  return b\n",
        "\n",
        "replace_vowels('i am siva')"
      ],
      "metadata": {
        "colab": {
          "base_uri": "https://localhost:8080/",
          "height": 35
        },
        "id": "tc9hCcmdnSbX",
        "outputId": "3043c3a4-7a08-4466-9f37-92e4ffe8e418"
      },
      "execution_count": 129,
      "outputs": [
        {
          "output_type": "execute_result",
          "data": {
            "text/plain": [
              "'# #m s#v#'"
            ],
            "application/vnd.google.colaboratory.intrinsic+json": {
              "type": "string"
            }
          },
          "metadata": {},
          "execution_count": 129
        }
      ]
    },
    {
      "cell_type": "markdown",
      "source": [
        "Question4. \n",
        "\n",
        "Write a function that calculates the factorial of a number recursively.\n",
        "Examples\n",
        "factorial(5) ➞ 120\n",
        "\n",
        "factorial(3) ➞ 6\n",
        "\n",
        "factorial(1) ➞ 1\n",
        "\n",
        "factorial(0) ➞ 1\n"
      ],
      "metadata": {
        "id": "SgE2lo-NoJmL"
      }
    },
    {
      "cell_type": "code",
      "source": [
        "def factorial1(a):\n",
        "  if (a ==1 or a==0) :\n",
        "    return 1\n",
        "  else :\n",
        "    return a*factorial1(a-1)\n",
        "\n",
        "factorial1(3)"
      ],
      "metadata": {
        "colab": {
          "base_uri": "https://localhost:8080/"
        },
        "id": "pfPa7frNn5KT",
        "outputId": "5651bbb0-b11e-43e5-f115-1adcc6ec9533"
      },
      "execution_count": 131,
      "outputs": [
        {
          "output_type": "execute_result",
          "data": {
            "text/plain": [
              "6"
            ]
          },
          "metadata": {},
          "execution_count": 131
        }
      ]
    },
    {
      "cell_type": "code",
      "source": [
        "factorial1(0)"
      ],
      "metadata": {
        "colab": {
          "base_uri": "https://localhost:8080/"
        },
        "id": "dVXWzYkbokgl",
        "outputId": "bb9ad3b1-42c5-4d87-a363-744095d6c670"
      },
      "execution_count": 132,
      "outputs": [
        {
          "output_type": "execute_result",
          "data": {
            "text/plain": [
              "1"
            ]
          },
          "metadata": {},
          "execution_count": 132
        }
      ]
    },
    {
      "cell_type": "markdown",
      "source": [
        "**Question 5**\n",
        "\n",
        "Hamming distance is the number of characters that differ between two strings.\n",
        "To illustrate:\n",
        "String1: \"abcbba\"\n",
        "String2: \"abcbda\"\n",
        "\n",
        "Hamming Distance: 1 - \"b\" vs. \"d\" is the only difference.\n",
        "Create a function that computes the hamming distance between two strings.\n",
        "Examples\n",
        "hamming_distance(\"abcde\", \"bcdef\") ➞ 5\n",
        "\n",
        "hamming_distance(\"abcde\", \"abcde\") ➞ 0\n",
        "\n",
        "hamming_distance(\"strong\", \"strung\") ➞ 1\n"
      ],
      "metadata": {
        "id": "FA334cOeoyIv"
      }
    },
    {
      "cell_type": "code",
      "source": [
        "def hammering_distance(a,b):\n",
        "  sum = 0\n",
        "  for i in range(len(a)):\n",
        "    if a[i] != b[i] :\n",
        "      sum = sum+1\n",
        "\n",
        "  return sum\n",
        "\n",
        "hammering_distance(\"abcde\", \"bcdef\")"
      ],
      "metadata": {
        "colab": {
          "base_uri": "https://localhost:8080/"
        },
        "id": "jzMVAYrLopnG",
        "outputId": "74824987-ce36-4396-b186-8dce08803f6f"
      },
      "execution_count": 134,
      "outputs": [
        {
          "output_type": "execute_result",
          "data": {
            "text/plain": [
              "5"
            ]
          },
          "metadata": {},
          "execution_count": 134
        }
      ]
    },
    {
      "cell_type": "code",
      "source": [
        "\n",
        "hammering_distance(\"strong\", \"strung\")"
      ],
      "metadata": {
        "colab": {
          "base_uri": "https://localhost:8080/"
        },
        "id": "WdLBjJgLpYrq",
        "outputId": "51cc18de-cf9c-4453-a83f-1edc15a1d2ea"
      },
      "execution_count": 135,
      "outputs": [
        {
          "output_type": "execute_result",
          "data": {
            "text/plain": [
              "1"
            ]
          },
          "metadata": {},
          "execution_count": 135
        }
      ]
    },
    {
      "cell_type": "code",
      "source": [
        "hammering_distance(\"abcde\", \"abcde\")"
      ],
      "metadata": {
        "colab": {
          "base_uri": "https://localhost:8080/"
        },
        "id": "a6HX9sWmpgAs",
        "outputId": "dff89e53-faf9-4845-e7d4-2ae8216f0dfe"
      },
      "execution_count": 136,
      "outputs": [
        {
          "output_type": "execute_result",
          "data": {
            "text/plain": [
              "0"
            ]
          },
          "metadata": {},
          "execution_count": 136
        }
      ]
    },
    {
      "cell_type": "code",
      "source": [],
      "metadata": {
        "id": "rVvZCfN-pkgT"
      },
      "execution_count": null,
      "outputs": []
    }
  ]
}