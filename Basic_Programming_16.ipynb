{
  "nbformat": 4,
  "nbformat_minor": 0,
  "metadata": {
    "colab": {
      "provenance": []
    },
    "kernelspec": {
      "name": "python3",
      "display_name": "Python 3"
    },
    "language_info": {
      "name": "python"
    }
  },
  "cells": [
    {
      "cell_type": "markdown",
      "source": [
        "Question1.\n",
        "\n",
        " Write a function that stutters a word as if someone is struggling to read it. The first two letters are repeated twice with an ellipsis ... and space after each, and then the word is pronounced with a question mark ?.\n",
        "Examples\n",
        "stutter(\"incredible\") ➞ \"in... in... incredible?\"\n",
        "\n",
        "stutter(\"enthusiastic\") ➞ \"en... en... enthusiastic?\"\n",
        "\n",
        "stutter(\"outstanding\") ➞ \"ou... ou... outstanding?\"\n",
        "\n",
        "Hint :- Assume all input is in lower case and at least two characters long.\n"
      ],
      "metadata": {
        "id": "xdc-ImPF-7NG"
      }
    },
    {
      "cell_type": "code",
      "source": [
        "def func1(a):\n",
        "  b = ''\n",
        "  for i in range(len(a)):\n",
        "    if i == 1 :\n",
        "      b = b+a[i]+'...'+' '+b+a[i]+'...'+' '\n",
        "    else :\n",
        "      b = b+a[i]\n",
        "\n",
        "  return b\n",
        "\n",
        "func1('enthusiastic')\n",
        "    "
      ],
      "metadata": {
        "colab": {
          "base_uri": "https://localhost:8080/",
          "height": 35
        },
        "id": "johplGBw-_fS",
        "outputId": "7f5c2142-3acb-492d-f22e-1952b445d0c1"
      },
      "execution_count": 7,
      "outputs": [
        {
          "output_type": "execute_result",
          "data": {
            "text/plain": [
              "'en... en... thusiastic'"
            ],
            "application/vnd.google.colaboratory.intrinsic+json": {
              "type": "string"
            }
          },
          "metadata": {},
          "execution_count": 7
        }
      ]
    },
    {
      "cell_type": "markdown",
      "source": [
        "**Question 2.**\n",
        "\n",
        "Create a function that takes an angle in radians and returns the corresponding angle in degrees rounded to one decimal place.\n",
        "Examples\n",
        "radians_to_degrees(1) ➞ 57.3\n",
        "\n",
        "radians_to_degrees(20) ➞ 1145.9\n",
        "\n",
        "radians_to_degrees(50) ➞ 2864.8\n",
        "\n"
      ],
      "metadata": {
        "id": "7QLMI-IKAjWj"
      }
    },
    {
      "cell_type": "code",
      "source": [
        "import math\n",
        "\n",
        "def fun2(a):\n",
        "  return round(math.degrees(a),2)\n",
        "\n",
        "fun2(20)"
      ],
      "metadata": {
        "colab": {
          "base_uri": "https://localhost:8080/"
        },
        "id": "dRmBGrAM_NSN",
        "outputId": "035ff2bf-8099-4b92-c9cf-67ba86a30797"
      },
      "execution_count": 16,
      "outputs": [
        {
          "output_type": "execute_result",
          "data": {
            "text/plain": [
              "1145.92"
            ]
          },
          "metadata": {},
          "execution_count": 16
        }
      ]
    },
    {
      "cell_type": "markdown",
      "source": [
        "Question 3. \n",
        "\n",
        "In this challenge, establish if a given integer num is a Curzon number. If 1 plus 2 elevated to num is exactly divisible by 1 plus 2 multiplied by num, then num is a Curzon number.\n",
        "Given a non-negative integer num, implement a function that returns True if num is a Curzon number, or False otherwise.\n",
        "Examples\n",
        "is_curzon(5) ➞ True\n",
        "# 2 ** 5 + 1 = 33\n",
        "# 2 * 5 + 1 = 11\n",
        "# 33 is a multiple of 11\n",
        "\n",
        "is_curzon(10) ➞ False\n",
        "# 2 ** 10 + 1 = 1025\n",
        "# 2 * 10 + 1 = 21\n",
        "# 1025 is not a multiple of 21\n",
        "\n",
        "is_curzon(14) ➞ True\n",
        "# 2 ** 14 + 1 = 16385\n",
        "# 2 * 14 + 1 = 29\n",
        "# 16385 is a multiple of 29\n"
      ],
      "metadata": {
        "id": "soLZBdq6BsXO"
      }
    },
    {
      "cell_type": "code",
      "source": [
        "def curzon(a):\n",
        "  b = 1+(2**a)\n",
        "  d = 1+(2*a)\n",
        "\n",
        "  if b%d == 0:\n",
        "    return True\n",
        "  else:\n",
        "    False\n",
        "\n",
        "curzon(14)"
      ],
      "metadata": {
        "colab": {
          "base_uri": "https://localhost:8080/"
        },
        "id": "BvnU8VPBAx4o",
        "outputId": "854a19c0-f32b-446a-b0f7-8074d86a01eb"
      },
      "execution_count": 17,
      "outputs": [
        {
          "output_type": "execute_result",
          "data": {
            "text/plain": [
              "True"
            ]
          },
          "metadata": {},
          "execution_count": 17
        }
      ]
    },
    {
      "cell_type": "code",
      "source": [
        "curzon(5)"
      ],
      "metadata": {
        "colab": {
          "base_uri": "https://localhost:8080/"
        },
        "id": "7Q3XCOGyCulZ",
        "outputId": "3d89fdb4-1c26-42f3-a1bc-fda0daa1240f"
      },
      "execution_count": 18,
      "outputs": [
        {
          "output_type": "execute_result",
          "data": {
            "text/plain": [
              "True"
            ]
          },
          "metadata": {},
          "execution_count": 18
        }
      ]
    },
    {
      "cell_type": "markdown",
      "source": [
        "**Question 4.**\n",
        "\n",
        "Given the side length x find the area of a hexagon.\n",
        "\n",
        "Examples\n",
        "area_of_hexagon(1) ➞ 2.6\n",
        "area_of_hexagon(2) ➞ 10.4\n",
        "area_of_hexagon(3) ➞ 23.4\n"
      ],
      "metadata": {
        "id": "FdEl7OzFHuRm"
      }
    },
    {
      "cell_type": "code",
      "source": [
        "# area of a Hexagon\n",
        "# Area = (3 √3(n*n) ) / 2\n",
        "import math\n",
        "def area_of_hexagon(s):     \n",
        "    return ((3 * math.sqrt(3) * (sideLength * sideLength)) / 2);\n",
        "     \n",
        "#length of a side.\n",
        "sideLength = float(input('Enter the length : '))\n",
        "\n",
        "print(\"Area:\",\"{0:.4f}\".format(area_of_hexagon(sideLength)))"
      ],
      "metadata": {
        "colab": {
          "base_uri": "https://localhost:8080/"
        },
        "id": "eg_EdfW3H4KC",
        "outputId": "0f7df60e-ecb7-4d22-a2a0-d8f19361072c"
      },
      "execution_count": 19,
      "outputs": [
        {
          "output_type": "stream",
          "name": "stdout",
          "text": [
            "Enter the length : 30\n",
            "Area: 2338.2686\n"
          ]
        }
      ]
    },
    {
      "cell_type": "markdown",
      "source": [
        "Question 5.\n",
        "\n",
        "\n",
        "\n",
        "Create a function that returns a base-2 (binary) representation of a base-10 (decimal) string number. To convert is simple: ((2) means base-2 and (10) means base-10) 010101001(2) = 1 + 8 + 32 + 128.\n",
        "Going from right to left, the value of the most right bit is 1, now from that every bit to the left will be x2 the value, value of an 8 bit binary numbers are (256, 128, 64, 32, 16, 8, 4, 2, 1).\n",
        "Examples\n",
        "binary(1) ➞ \"1\"\n",
        "# 1*1 = 1\n",
        "\n",
        "binary(5) ➞ \"101\"\n",
        "# 1*1 + 1*4 = 5\n",
        "\n",
        "binary(10) ➞ \"1010\"\n",
        "# 1*2 + 1*8 = 10\n"
      ],
      "metadata": {
        "id": "ChGZPqaMFKK9"
      }
    },
    {
      "cell_type": "code",
      "source": [
        "# Function to convert Decimal number\n",
        "# to Binary number\n",
        "def decimalToBinary(n):\n",
        "    return bin(n).replace(\"0b\", \"\")\n",
        "   \n",
        "for i in range(0,50):\n",
        "    print(decimalToBinary(i))"
      ],
      "metadata": {
        "colab": {
          "base_uri": "https://localhost:8080/"
        },
        "id": "A2j87x8qCxbJ",
        "outputId": "5ce7d935-de31-48fe-9b8f-9014ece8539f"
      },
      "execution_count": 20,
      "outputs": [
        {
          "output_type": "stream",
          "name": "stdout",
          "text": [
            "0\n",
            "1\n",
            "10\n",
            "11\n",
            "100\n",
            "101\n",
            "110\n",
            "111\n",
            "1000\n",
            "1001\n",
            "1010\n",
            "1011\n",
            "1100\n",
            "1101\n",
            "1110\n",
            "1111\n",
            "10000\n",
            "10001\n",
            "10010\n",
            "10011\n",
            "10100\n",
            "10101\n",
            "10110\n",
            "10111\n",
            "11000\n",
            "11001\n",
            "11010\n",
            "11011\n",
            "11100\n",
            "11101\n",
            "11110\n",
            "11111\n",
            "100000\n",
            "100001\n",
            "100010\n",
            "100011\n",
            "100100\n",
            "100101\n",
            "100110\n",
            "100111\n",
            "101000\n",
            "101001\n",
            "101010\n",
            "101011\n",
            "101100\n",
            "101101\n",
            "101110\n",
            "101111\n",
            "110000\n",
            "110001\n"
          ]
        }
      ]
    },
    {
      "cell_type": "code",
      "source": [],
      "metadata": {
        "id": "QdDFyPFkIA4A"
      },
      "execution_count": null,
      "outputs": []
    }
  ]
}