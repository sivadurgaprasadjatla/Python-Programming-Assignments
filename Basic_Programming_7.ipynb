{
  "nbformat": 4,
  "nbformat_minor": 0,
  "metadata": {
    "colab": {
      "provenance": []
    },
    "kernelspec": {
      "name": "python3",
      "display_name": "Python 3"
    },
    "language_info": {
      "name": "python"
    }
  },
  "cells": [
    {
      "cell_type": "code",
      "source": [
        "#1.\tWrite a Python Program to find sum of array?\n",
        "\n",
        "arr = [1,2,3,1,4,6,8]\n",
        "sum = 0\n",
        "for i in arr:\n",
        "  sum = sum+i\n",
        "\n",
        "print(sum)\n",
        "\n",
        "\n"
      ],
      "metadata": {
        "colab": {
          "base_uri": "https://localhost:8080/"
        },
        "id": "rwA1NIdEc8oX",
        "outputId": "fd123ebc-63ad-4e4c-8cdb-7e95b9283ec4"
      },
      "execution_count": 2,
      "outputs": [
        {
          "output_type": "stream",
          "name": "stdout",
          "text": [
            "25\n"
          ]
        }
      ]
    },
    {
      "cell_type": "code",
      "source": [
        "import functools\n",
        "arr = [1,2,3,1,4,6,8]\n",
        "\n",
        "a = functools.reduce(lambda x,y : x+y, arr)\n",
        "print(a)"
      ],
      "metadata": {
        "colab": {
          "base_uri": "https://localhost:8080/"
        },
        "id": "R8AULZKzd2K5",
        "outputId": "8d13a6ea-1a8a-46a1-8eb8-61555ed7e9c7"
      },
      "execution_count": 3,
      "outputs": [
        {
          "output_type": "stream",
          "name": "stdout",
          "text": [
            "25\n"
          ]
        }
      ]
    },
    {
      "cell_type": "code",
      "source": [
        "#2.\tWrite a Python Program to find largest element in an array?\n",
        "\n",
        "arr = [1,2,3,1,4,6,8.3,5]\n",
        "\n",
        "largest_element = max(arr)\n"
      ],
      "metadata": {
        "id": "7OaET5zldG2i"
      },
      "execution_count": 4,
      "outputs": []
    },
    {
      "cell_type": "code",
      "source": [
        "#3.\tWrite a Python Program for array rotation?\n",
        "\n",
        "a  = [1,2,3,4,5,6,7]\n",
        "b = []\n",
        "\n",
        "n = int(input('enter number of rotations...'))\n",
        "\n",
        "for i in range(n+1,len(a)+1):\n",
        "  b.append(i)\n",
        "\n",
        "\n",
        "for i in range(0,n):\n",
        "  b.append(a[i])\n",
        "\n",
        "print(b)\n"
      ],
      "metadata": {
        "colab": {
          "base_uri": "https://localhost:8080/"
        },
        "id": "1IHGigXGdILb",
        "outputId": "81aea6eb-1014-4b6d-e77c-ae634a3862ee"
      },
      "execution_count": 12,
      "outputs": [
        {
          "output_type": "stream",
          "name": "stdout",
          "text": [
            "enter number of rotations...2\n",
            "[3, 4, 5, 6, 7]\n",
            "[3, 4, 5, 6, 7, 1, 2]\n"
          ]
        }
      ]
    },
    {
      "cell_type": "code",
      "source": [
        "#4.\tWrite a Python Program to Split the array and add the first part to the end?\n",
        "\n",
        "a  = [1,2,3,4,5,6,7]\n",
        "b = []\n",
        "\n",
        "n = int(input('enter number of rotations...'))\n",
        "\n",
        "b = a[n:]\n",
        "c = a[:n]\n",
        "print(b+c)"
      ],
      "metadata": {
        "id": "m5tqmYGNdIyh"
      },
      "execution_count": 10,
      "outputs": []
    },
    {
      "cell_type": "code",
      "source": [
        "#5.\tWrite a Python Program to check if given array is Monotonic?\n",
        "\n"
      ],
      "metadata": {
        "id": "38x7HHCpdJ_Q"
      },
      "execution_count": 44,
      "outputs": []
    },
    {
      "cell_type": "code",
      "source": [
        "a = input()\n",
        "a = a.split()\n",
        "a1 = []\n",
        "for i in a :\n",
        "  a1.append(int(i))\n",
        "\n",
        "type(a)\n",
        "print(a1)\n",
        "\n",
        "b = a1.sort()\n",
        "print(b)\n",
        "\n",
        "c = a1.sort(reverse = True)\n",
        "print(c)"
      ],
      "metadata": {
        "colab": {
          "base_uri": "https://localhost:8080/"
        },
        "id": "RCqJGGjijZLK",
        "outputId": "75e8d14c-e6bd-4192-ec08-90475e7bdcdc"
      },
      "execution_count": 43,
      "outputs": [
        {
          "output_type": "stream",
          "name": "stdout",
          "text": [
            "1 2 3 4 5\n",
            "[1, 2, 3, 4, 5]\n",
            "None\n",
            "None\n"
          ]
        }
      ]
    },
    {
      "cell_type": "code",
      "source": [
        "# Check if given array is Monotonic\n",
        "def isMonotonic(A):\n",
        "\tx, y = [], []\n",
        "\tx.extend(A)\n",
        "\ty.extend(A)\n",
        "\tx.sort()\n",
        "\ty.sort(reverse=True)\n",
        "\tif(x == A or y == A):\n",
        "\t\treturn True\n",
        "\treturn False\n",
        "\n",
        "\n",
        "# Driver program\n",
        "A = [6, 5, 4, 4]\n",
        "\n",
        "# Print required result\n",
        "print(isMonotonic(A))\n"
      ],
      "metadata": {
        "colab": {
          "base_uri": "https://localhost:8080/"
        },
        "id": "UQ-LP8J8m4xm",
        "outputId": "13084c44-7c85-40a3-bd4c-57595a74dcf1"
      },
      "execution_count": 40,
      "outputs": [
        {
          "output_type": "stream",
          "name": "stdout",
          "text": [
            "True\n"
          ]
        }
      ]
    },
    {
      "cell_type": "code",
      "source": [],
      "metadata": {
        "id": "TbPoqInAnJE6"
      },
      "execution_count": null,
      "outputs": []
    }
  ]
}