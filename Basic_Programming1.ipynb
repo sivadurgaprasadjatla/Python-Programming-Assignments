{
  "nbformat": 4,
  "nbformat_minor": 0,
  "metadata": {
    "colab": {
      "provenance": []
    },
    "kernelspec": {
      "name": "python3",
      "display_name": "Python 3"
    },
    "language_info": {
      "name": "python"
    }
  },
  "cells": [
    {
      "cell_type": "code",
      "execution_count": 1,
      "metadata": {
        "colab": {
          "base_uri": "https://localhost:8080/"
        },
        "id": "YDvAuihdAT7d",
        "outputId": "973f166c-0def-4c42-dccb-3f0cbf8dba67"
      },
      "outputs": [
        {
          "output_type": "stream",
          "name": "stdout",
          "text": [
            "Hello Python\n"
          ]
        }
      ],
      "source": [
        "# 1.\tWrite a Python program to print \"Hello Python\"?\n",
        "\n",
        "print('Hello Python')"
      ]
    },
    {
      "cell_type": "code",
      "source": [
        "# 2.\tWrite a Python program to do arithmetical operations addition and division.?\n",
        "\n",
        "a = 10\n",
        "b = 2\n",
        "\n",
        "print(a+b)\n",
        "print(a/b)\n",
        "print(a*b)\n",
        "print(a-b)"
      ],
      "metadata": {
        "colab": {
          "base_uri": "https://localhost:8080/"
        },
        "id": "kbvRW2v7Aa-p",
        "outputId": "ab98b561-7251-4723-b2e6-1f154a679b6b"
      },
      "execution_count": 2,
      "outputs": [
        {
          "output_type": "stream",
          "name": "stdout",
          "text": [
            "12\n",
            "5.0\n",
            "20\n",
            "8\n"
          ]
        }
      ]
    },
    {
      "cell_type": "code",
      "source": [
        "#3.\tWrite a Python program to find the area of a triangle?\n",
        "\n",
        "height_of_triangle = float(input('enter height of triangle...'))\n",
        "bredth_of_triangle = float(input('enter bredth of traingle..'))\n",
        "\n",
        "a = (height_of_triangle*bredth_of_triangle)\n",
        "Area = a*0.5\n",
        "\n",
        "\n",
        "print(Area)"
      ],
      "metadata": {
        "colab": {
          "base_uri": "https://localhost:8080/"
        },
        "id": "j8Ldu90VAtLW",
        "outputId": "902e88d4-a35f-4332-cd22-76983821410c"
      },
      "execution_count": 9,
      "outputs": [
        {
          "output_type": "stream",
          "name": "stdout",
          "text": [
            "enter height of triangle...10\n",
            "enter bredth of traingle..5\n",
            "25.0\n"
          ]
        }
      ]
    },
    {
      "cell_type": "code",
      "source": [
        "#4.\tWrite a Python program to swap two variables?\n",
        "\n",
        "a = 5\n",
        "b = 10\n",
        "\n",
        "print('values of a = {} and b ={} before swap'.format(a,b))\n",
        "\n",
        "c = a\n",
        "a = b\n",
        "b = c\n",
        "\n",
        "print('values of a = {} and b ={} after swap'.format(a,b))"
      ],
      "metadata": {
        "colab": {
          "base_uri": "https://localhost:8080/"
        },
        "id": "vmsIvYMLBSTX",
        "outputId": "5ca4e9c9-e1a8-4e04-ed1b-85eea5d9f408"
      },
      "execution_count": 13,
      "outputs": [
        {
          "output_type": "stream",
          "name": "stdout",
          "text": [
            "values of a = 5 and b =10 before swap\n",
            "values of a = 10 and b =5 after swap\n"
          ]
        }
      ]
    },
    {
      "cell_type": "code",
      "source": [
        "# 5.\tWrite a Python program to generate a random number?\n",
        "\n",
        "import random\n",
        "\n",
        "a = random.randint(3,30)\n",
        "print(a)"
      ],
      "metadata": {
        "colab": {
          "base_uri": "https://localhost:8080/"
        },
        "id": "4-FmU_q0CdBB",
        "outputId": "73f20825-78fc-43df-9df3-3d08cb288ba1"
      },
      "execution_count": 20,
      "outputs": [
        {
          "output_type": "stream",
          "name": "stdout",
          "text": [
            "6\n"
          ]
        }
      ]
    }
  ]
}