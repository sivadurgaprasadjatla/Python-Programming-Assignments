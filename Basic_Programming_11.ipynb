{
  "nbformat": 4,
  "nbformat_minor": 0,
  "metadata": {
    "colab": {
      "provenance": []
    },
    "kernelspec": {
      "name": "python3",
      "display_name": "Python 3"
    },
    "language_info": {
      "name": "python"
    }
  },
  "cells": [
    {
      "cell_type": "code",
      "execution_count": null,
      "metadata": {
        "colab": {
          "base_uri": "https://localhost:8080/"
        },
        "id": "rzkeEU5qdc-N",
        "outputId": "21e57de1-dce0-4b8c-98d7-a9802a9720fb"
      },
      "outputs": [
        {
          "output_type": "stream",
          "name": "stdout",
          "text": [
            "prasad\n",
            "become\n",
            "datascientist\n"
          ]
        }
      ],
      "source": [
        "#1.\tWrite a Python program to find words which are greater than given length k?\n",
        "\n",
        "s = ' i am siva durga prasad and i would like to become datascientist'\n",
        "\n",
        "k = 5\n",
        "\n",
        "s = s.split()\n",
        "\n",
        "for i in s :\n",
        "   if len(i) > k:\n",
        "     print(i)"
      ]
    },
    {
      "cell_type": "code",
      "source": [
        "#2.\tWrite a Python program for removing i-th character from a string?\n",
        "\n",
        "s = 'Karna , the great warior'\n",
        "\n",
        "n = int(input('enter a number..'))\n",
        "\n",
        "if n<len(s):\n",
        "  s =s.replace(s[n],'',1)\n",
        "print(s)\n"
      ],
      "metadata": {
        "colab": {
          "base_uri": "https://localhost:8080/"
        },
        "id": "aL8g4c5Kd742",
        "outputId": "d980f455-ce09-437d-96c1-5448f2c0d0ac"
      },
      "execution_count": null,
      "outputs": [
        {
          "output_type": "stream",
          "name": "stdout",
          "text": [
            "enter a number..1\n",
            "Krna , the great warior\n"
          ]
        }
      ]
    },
    {
      "cell_type": "code",
      "source": [
        "#3.\tWrite a Python program to split and join a string?\n",
        "\n",
        "s = 'this is my first programme to practice'\n",
        "\n",
        "s = s.split()\n",
        "\n",
        "print('the string after split is ..', s)\n",
        "\n",
        "s = ' '.join(s)\n",
        "\n",
        "print('the string after join is ...',s)\n",
        "\n"
      ],
      "metadata": {
        "id": "tPfZBPz7d9Zv",
        "colab": {
          "base_uri": "https://localhost:8080/",
          "height": 70
        },
        "outputId": "34a99a94-a8ca-4a4f-9e97-771d3166161e"
      },
      "execution_count": 15,
      "outputs": [
        {
          "output_type": "stream",
          "name": "stdout",
          "text": [
            "the string after split is .. ['this', 'is', 'my', 'first', 'programme', 'to', 'practice']\n",
            "the string after join is ... this is my first programme to practice\n"
          ]
        },
        {
          "output_type": "execute_result",
          "data": {
            "text/plain": [
              "'d u r g a'"
            ],
            "application/vnd.google.colaboratory.intrinsic+json": {
              "type": "string"
            }
          },
          "metadata": {},
          "execution_count": 15
        }
      ]
    },
    {
      "cell_type": "code",
      "source": [
        "#4.\tWrite a Python to check if a given string is binary string or not?\n",
        "\n",
        "string = \"01010101010\"\n",
        "if(string.count('0')+string.count('1')==len(string)):\n",
        "\tprint(\"Yes\")\n",
        "else:\n",
        "\tprint(\"No\")\n"
      ],
      "metadata": {
        "id": "Fa6tdf7Dd_Bd"
      },
      "execution_count": null,
      "outputs": []
    },
    {
      "cell_type": "code",
      "source": [
        "string = \"0s1010101010\"\n",
        "\n",
        "for i in string:\n",
        "  if i not in ['1','0']:\n",
        "    print('No')\n",
        "    break\n",
        "\n",
        "else:\n",
        "  print('Yes')\n"
      ],
      "metadata": {
        "colab": {
          "base_uri": "https://localhost:8080/"
        },
        "id": "cAGTi7SgBc3v",
        "outputId": "aaa4e941-a4ef-4448-ebeb-5b77988c6345"
      },
      "execution_count": 32,
      "outputs": [
        {
          "output_type": "stream",
          "name": "stdout",
          "text": [
            "No\n"
          ]
        }
      ]
    },
    {
      "cell_type": "code",
      "source": [
        "#5.\tWrite a Python program to find uncommon words from two Strings?\n",
        "\n",
        "s = ' i am siva durga prasad i am from ineauron'\n",
        "\n",
        "s1 = 'i am durga prasad i am from Odin school'\n",
        "\n",
        "\n",
        "\n",
        "s = set.symmetric_difference(set(s.split()), set(s1.split()))\n",
        "\n",
        "print(s)"
      ],
      "metadata": {
        "id": "pvur9zx4eA84",
        "colab": {
          "base_uri": "https://localhost:8080/"
        },
        "outputId": "24845f54-ecb5-4bb6-84ad-8a61e969da3a"
      },
      "execution_count": 23,
      "outputs": [
        {
          "output_type": "stream",
          "name": "stdout",
          "text": [
            "{'siva', 'Odin', 'ineauron', 'school'}\n"
          ]
        }
      ]
    },
    {
      "cell_type": "code",
      "source": [
        "#6.\tWrite a Python to find all duplicate characters in string?\n",
        "\n",
        "s = ' i am siva durga prasad i am from ineauron'\n",
        "s1 = ''\n",
        "for i in s :\n",
        "  if s.count(i) > 1:\n",
        "    s1 = s1+' '+ i\n",
        "\n",
        "s1 = set(s1.split())\n",
        "print(s1)"
      ],
      "metadata": {
        "id": "U2TPFEs2eCKR",
        "colab": {
          "base_uri": "https://localhost:8080/"
        },
        "outputId": "50a35102-3f8a-4b0b-9d55-cf4a3a6f1c08"
      },
      "execution_count": 26,
      "outputs": [
        {
          "output_type": "stream",
          "name": "stdout",
          "text": [
            "{'i', 'd', 'r', 'u', 'o', 'm', 'n', 'a', 's'}\n"
          ]
        }
      ]
    },
    {
      "cell_type": "code",
      "source": [
        "#7.\tWrite a Python Program to check if a string contains any special character?\n",
        "\n",
        "import string\n",
        "\n",
        "s = 'I am @ravi,my gmail is #ravi!@gamil.com'\n",
        "\n",
        "for i in s:\n",
        "  if i  in string.punctuation :\n",
        "    print('its havig special characters')\n",
        "    break\n",
        "else:\n",
        "  print('its not having special character')\n"
      ],
      "metadata": {
        "id": "qBF5UNryeDRM",
        "colab": {
          "base_uri": "https://localhost:8080/"
        },
        "outputId": "b069061c-962d-42e6-9963-7d277a7a7ed5"
      },
      "execution_count": 28,
      "outputs": [
        {
          "output_type": "stream",
          "name": "stdout",
          "text": [
            "its havig special characters\n"
          ]
        }
      ]
    },
    {
      "cell_type": "code",
      "source": [],
      "metadata": {
        "id": "oKfITwFy_iEw"
      },
      "execution_count": null,
      "outputs": []
    }
  ]
}