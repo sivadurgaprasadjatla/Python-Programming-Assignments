{
  "nbformat": 4,
  "nbformat_minor": 0,
  "metadata": {
    "colab": {
      "provenance": []
    },
    "kernelspec": {
      "name": "python3",
      "display_name": "Python 3"
    },
    "language_info": {
      "name": "python"
    }
  },
  "cells": [
    {
      "cell_type": "code",
      "execution_count": 13,
      "metadata": {
        "id": "OHocc-8NNqor"
      },
      "outputs": [],
      "source": [
        "#1.\tWrite a Python Program to Display Fibonacci Sequence Using Recursion?\n",
        "\n",
        "def febn(a,b=0,l=[]):\n",
        "  if a == b:\n",
        "    return l\n",
        "  if b == 0 :\n",
        "    l.append(0)\n",
        "    return febn(a,b+1)\n",
        "  elif b == 1:\n",
        "    l.append(1)\n",
        "    return febn(a,b+1)\n",
        "  \n",
        "  else :\n",
        "    c = l[b-1] + l[b-2]\n",
        "    l.append(c)\n",
        "    return febn(a,b+1)\n",
        "    \n",
        "  \n",
        "  print(l)\n",
        "\n"
      ]
    },
    {
      "cell_type": "code",
      "source": [
        "def recur_fibo(n):\n",
        "   if n <= 1:\n",
        "       return n\n",
        "   else:\n",
        "       return(recur_fibo(n-1) + recur_fibo(n-2))\n",
        "\n",
        "recur_fibo(7)"
      ],
      "metadata": {
        "colab": {
          "base_uri": "https://localhost:8080/"
        },
        "id": "8amSq5esAxLQ",
        "outputId": "5bc01dc5-7b80-48d2-cddd-59d328372f07"
      },
      "execution_count": 20,
      "outputs": [
        {
          "output_type": "execute_result",
          "data": {
            "text/plain": [
              "13"
            ]
          },
          "metadata": {},
          "execution_count": 20
        }
      ]
    },
    {
      "cell_type": "code",
      "source": [
        "febn(3)"
      ],
      "metadata": {
        "colab": {
          "base_uri": "https://localhost:8080/"
        },
        "id": "n77hAqgu-y4x",
        "outputId": "2c837387-1b44-4ddb-da95-1a07c2ba503f"
      },
      "execution_count": 16,
      "outputs": [
        {
          "output_type": "execute_result",
          "data": {
            "text/plain": [
              "[0, 1, 1, 2, 3, 5, 8, 13, 0, 1, 1, 2, 3, 5, 8, 13, 21, 13, 0, 1, 1]"
            ]
          },
          "metadata": {},
          "execution_count": 16
        }
      ]
    },
    {
      "cell_type": "code",
      "source": [
        "#2.\tWrite a Python Program to Find Factorial of Number Using Recursion?\n",
        "\n",
        "def factorial(a,b,l=[]):\n",
        "  if a == 1:\n",
        "    l.append(1)\n",
        "  elif a == 2:\n",
        "    l.append(s)"
      ],
      "metadata": {
        "id": "5tPo5HvROLwc"
      },
      "execution_count": null,
      "outputs": []
    },
    {
      "cell_type": "code",
      "source": [
        "#3.\tWrite a Python Program to calculate your Body Mass Index?\n",
        "\n",
        "# BMI = weight/height *Height\n",
        "\n",
        "height = float(input('enter height in feets...'))\n",
        "weight = float(input('enter weight in Kg...'))\n",
        "\n",
        "BMI = round(weight/(height*height),2)\n",
        "\n",
        "print(BMI)"
      ],
      "metadata": {
        "id": "qFndgCKmOMao",
        "colab": {
          "base_uri": "https://localhost:8080/"
        },
        "outputId": "080a9397-d476-43af-f6ee-f7614081a04a"
      },
      "execution_count": 25,
      "outputs": [
        {
          "output_type": "stream",
          "name": "stdout",
          "text": [
            "enter height in feets...5.8\n",
            "enter weight in Kg...67\n",
            "1.99\n"
          ]
        }
      ]
    },
    {
      "cell_type": "code",
      "source": [
        "#4.\tWrite a Python Program to calculate the natural logarithm of any number?\n",
        "\n",
        "import math\n",
        "\n",
        "n= int(input('enter a number...'))\n",
        "\n",
        "print(round(math.log(n),3))"
      ],
      "metadata": {
        "id": "Fu9j680wONzm",
        "colab": {
          "base_uri": "https://localhost:8080/"
        },
        "outputId": "e0bb59a1-c30d-4fab-8743-17e30c41e68b"
      },
      "execution_count": 31,
      "outputs": [
        {
          "output_type": "stream",
          "name": "stdout",
          "text": [
            "enter a number...4\n",
            "1.386\n"
          ]
        }
      ]
    },
    {
      "cell_type": "code",
      "source": [
        "#5.\tWrite a Python Program for cube sum of first n natural numbers?\n",
        "\n",
        "n = int(input('enter a number...'))\n",
        "c = 0\n",
        "for i in range(1,n+1):\n",
        "  c = c + i**3\n",
        "\n",
        "print(c)"
      ],
      "metadata": {
        "id": "vo-PL6f9OPAn",
        "colab": {
          "base_uri": "https://localhost:8080/"
        },
        "outputId": "8d99ff04-63de-46d1-8e9b-f150ca11b7fa"
      },
      "execution_count": 27,
      "outputs": [
        {
          "output_type": "stream",
          "name": "stdout",
          "text": [
            "enter a number...3\n",
            "36\n"
          ]
        }
      ]
    },
    {
      "cell_type": "code",
      "source": [],
      "metadata": {
        "id": "oXRBFbZID_ZR"
      },
      "execution_count": null,
      "outputs": []
    }
  ]
}