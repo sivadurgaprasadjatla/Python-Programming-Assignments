{
  "nbformat": 4,
  "nbformat_minor": 0,
  "metadata": {
    "colab": {
      "provenance": []
    },
    "kernelspec": {
      "name": "python3",
      "display_name": "Python 3"
    },
    "language_info": {
      "name": "python"
    }
  },
  "cells": [
    {
      "cell_type": "markdown",
      "source": [
        "Question1\n",
        "\n",
        "Create a function that takes a list of strings and integers, and filters out the list so that it returns a list of integers only.\n",
        "Examples\n",
        "filter_list([1, 2, 3, \"a\", \"b\", 4]) ➞ [1, 2, 3, 4]\n",
        "\n",
        "filter_list([\"A\", 0, \"Edabit\", 1729, \"Python\", \"1729\"]) ➞ [0, 1729]\n",
        "\n",
        "filter_list([\"Nothing\", \"here\"]) ➞ []\n"
      ],
      "metadata": {
        "id": "quoVYLbEI10h"
      }
    },
    {
      "cell_type": "code",
      "source": [
        "def integers(a):\n",
        "  b = []\n",
        "  for i in a:\n",
        "    if type(i) == int :\n",
        "      b.append(i)\n",
        "\n",
        "  return b\n",
        "\n",
        "integers([1,2,'a','k',4])\n"
      ],
      "metadata": {
        "colab": {
          "base_uri": "https://localhost:8080/"
        },
        "id": "44H51dRhI8ic",
        "outputId": "6eea3a24-3cbc-4b4e-e8b6-b7a05bb57883"
      },
      "execution_count": 1,
      "outputs": [
        {
          "output_type": "execute_result",
          "data": {
            "text/plain": [
              "[1, 2, 4]"
            ]
          },
          "metadata": {},
          "execution_count": 1
        }
      ]
    },
    {
      "cell_type": "markdown",
      "source": [
        "Question2\n",
        "\n",
        "Given a list of numbers, create a function which returns the list but with each element's index in the list added to itself. This means you add 0 to the number at index 0, add 1 to the number at index 1, etc...\n",
        "Examples\n",
        "add_indexes([0, 0, 0, 0, 0]) ➞ [0, 1, 2, 3, 4]\n",
        "\n",
        "add_indexes([1, 2, 3, 4, 5]) ➞ [1, 3, 5, 7, 9]\n",
        "\n",
        "add_indexes([5, 4, 3, 2, 1]) ➞ [5, 5, 5, 5, 5]\n"
      ],
      "metadata": {
        "id": "lc7zw1SmJgSU"
      }
    },
    {
      "cell_type": "code",
      "source": [
        "def indexes(a):\n",
        "  b =[]\n",
        "  for i in range(len(a)):\n",
        "    b.append(i+a[i])\n",
        "\n",
        "  return b\n",
        "\n",
        "indexes([1, 2, 3, 4, 5])\n"
      ],
      "metadata": {
        "colab": {
          "base_uri": "https://localhost:8080/"
        },
        "id": "WOQXqUUTJeLU",
        "outputId": "15f022ed-354c-4719-cdf6-7b7b7ed11608"
      },
      "execution_count": 2,
      "outputs": [
        {
          "output_type": "execute_result",
          "data": {
            "text/plain": [
              "[1, 3, 5, 7, 9]"
            ]
          },
          "metadata": {},
          "execution_count": 2
        }
      ]
    },
    {
      "cell_type": "markdown",
      "source": [
        "**Question3**\n",
        "\n",
        "Create a function that takes the height and radius of a cone as arguments and returns the volume of the cone rounded to the nearest hundredth. See the resources tab for the formula.\n",
        " \n",
        "Examples\n",
        "cone_volume(3, 2) ➞ 12.57\n",
        "\n",
        "cone_volume(15, 6) ➞ 565.49\n",
        "\n",
        "cone_volume(18, 0) ➞ 0\n"
      ],
      "metadata": {
        "id": "20S7eCBOKEk-"
      }
    },
    {
      "cell_type": "code",
      "source": [
        "import math\n",
        "def cone_vol(radius,h):\n",
        "  radius = float(radius)\n",
        "  h = float(h)\n",
        "  volum = round((1/3)*(math.pi)*radius*radius*h,2)\n",
        "\n",
        "  return volum\n",
        "\n",
        "cone_vol(3,2)"
      ],
      "metadata": {
        "colab": {
          "base_uri": "https://localhost:8080/"
        },
        "id": "RTr7ybNuKCNw",
        "outputId": "118c2d81-36bd-4ea2-b7ee-2b336b2c16cf"
      },
      "execution_count": 14,
      "outputs": [
        {
          "output_type": "execute_result",
          "data": {
            "text/plain": [
              "18.85"
            ]
          },
          "metadata": {},
          "execution_count": 14
        }
      ]
    },
    {
      "cell_type": "markdown",
      "source": [
        "**Question4**\n",
        "\n",
        "This Triangular Number Sequence is generated from a pattern of dots that form a triangle. The first 5 numbers of the sequence, or dots, are: \n",
        "1, 3, 6, 10, 15\n",
        "This means that the first triangle has just one dot, the second one has three dots, the third one has 6 dots and so on.\n",
        "Write a function that gives the number of dots with its corresponding triangle number of the sequence.\n",
        "Examples\n",
        "triangle(1) ➞ 1\n",
        "\n",
        "triangle(6) ➞ 21\n",
        "\n",
        "triangle(215) ➞ 23220\n"
      ],
      "metadata": {
        "id": "AgGWvOM5MaQL"
      }
    },
    {
      "cell_type": "code",
      "source": [
        "def dots(n):\n",
        "  return n*(n+1)*1/2\n",
        "\n",
        "dots(215)"
      ],
      "metadata": {
        "colab": {
          "base_uri": "https://localhost:8080/"
        },
        "id": "9RcqnnZBL0Ex",
        "outputId": "010856db-2dc1-4059-e647-dc889bec4858"
      },
      "execution_count": 18,
      "outputs": [
        {
          "output_type": "execute_result",
          "data": {
            "text/plain": [
              "23220.0"
            ]
          },
          "metadata": {},
          "execution_count": 18
        }
      ]
    },
    {
      "cell_type": "markdown",
      "source": [
        "Question5\n",
        "\n",
        "Create a function that takes a list of numbers between 1 and 10 (excluding one number) and returns the missing number.\n",
        "Examples\n",
        "missing_num([1, 2, 3, 4, 6, 7, 8, 9, 10]) ➞ 5\n",
        "\n",
        "missing_num([7, 2, 3, 6, 5, 9, 1, 4, 8]) ➞ 10\n",
        "\n",
        "missing_num([10, 5, 1, 2, 4, 6, 8, 3, 9]) ➞ 7\n",
        "\n"
      ],
      "metadata": {
        "id": "S7Dlk11YM9v4"
      }
    },
    {
      "cell_type": "code",
      "source": [
        "def missing_number(a):\n",
        "  for i in range(1,11):\n",
        "    if i not in a:\n",
        "      print(i)\n",
        "\n",
        "missing_number([1, 2, 3, 4, 6, 7, 8, 9, 10])"
      ],
      "metadata": {
        "colab": {
          "base_uri": "https://localhost:8080/"
        },
        "id": "cYoeFuMXNBIT",
        "outputId": "4e77b315-c5df-40d0-a623-89bed9d4f217"
      },
      "execution_count": 15,
      "outputs": [
        {
          "output_type": "stream",
          "name": "stdout",
          "text": [
            "5\n"
          ]
        }
      ]
    },
    {
      "cell_type": "code",
      "source": [],
      "metadata": {
        "id": "g_RXxyn8NPNK"
      },
      "execution_count": null,
      "outputs": []
    }
  ]
}