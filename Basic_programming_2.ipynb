{
  "nbformat": 4,
  "nbformat_minor": 0,
  "metadata": {
    "colab": {
      "provenance": []
    },
    "kernelspec": {
      "name": "python3",
      "display_name": "Python 3"
    },
    "language_info": {
      "name": "python"
    }
  },
  "cells": [
    {
      "cell_type": "code",
      "execution_count": 3,
      "metadata": {
        "colab": {
          "base_uri": "https://localhost:8080/"
        },
        "id": "ZudKoPaxEfVh",
        "outputId": "84dbf6fa-f332-4218-e602-48b5fb655a93"
      },
      "outputs": [
        {
          "output_type": "stream",
          "name": "stdout",
          "text": [
            "enter number of kilomneters to change to miles..5\n",
            "the value in miles = 3.107 for the given kilometers = 5.0\n"
          ]
        }
      ],
      "source": [
        "# 1.\tWrite a Python program to convert kilometers to miles?\n",
        "\n",
        "# kilometer equals 0.62137 miles\n",
        "\n",
        "\n",
        "kilometer = float(input('enter number of kilomneters to change to miles..'))\n",
        "\n",
        "miles = round(kilometer * 0.62137,3)\n",
        "\n",
        "print('the value in miles = {} for the given kilometers = {}'.format(miles,kilometer))"
      ]
    },
    {
      "cell_type": "code",
      "source": [
        "# 2.\tWrite a Python program to convert Celsius to Fahrenheit?\n",
        "\n",
        "# Normal formula : F-32 = c(9/5) where c = celsius, F = Farenheit\n",
        "\n",
        "C =  float(input('enter celsius value to convert...'))\n",
        "\n",
        "f = (C*0.55)-32\n",
        "\n",
        "print(f)"
      ],
      "metadata": {
        "colab": {
          "base_uri": "https://localhost:8080/"
        },
        "id": "vLAqgSMuFqvk",
        "outputId": "f8a041cb-7662-4af2-e113-08ba9be3038d"
      },
      "execution_count": 7,
      "outputs": [
        {
          "output_type": "stream",
          "name": "stdout",
          "text": [
            "enter celsius value to convert...23\n",
            "-19.35\n"
          ]
        }
      ]
    },
    {
      "cell_type": "code",
      "source": [
        "#3.\tWrite a Python program to display calendar?\n",
        "\n",
        "import calendar\n",
        "\n",
        "yy = int(input('enter year'))\n",
        "mm = int(input('enter month'))\n",
        "\n",
        "print(calendar.month(yy,mm))"
      ],
      "metadata": {
        "colab": {
          "base_uri": "https://localhost:8080/"
        },
        "id": "J5n9TdMxVfpX",
        "outputId": "072ffd5b-c890-43a2-e667-9d44fd5b3090"
      },
      "execution_count": 10,
      "outputs": [
        {
          "output_type": "stream",
          "name": "stdout",
          "text": [
            "enter year2023\n",
            "enter month4\n",
            "     April 2023\n",
            "Mo Tu We Th Fr Sa Su\n",
            "                1  2\n",
            " 3  4  5  6  7  8  9\n",
            "10 11 12 13 14 15 16\n",
            "17 18 19 20 21 22 23\n",
            "24 25 26 27 28 29 30\n",
            "\n"
          ]
        }
      ]
    },
    {
      "cell_type": "code",
      "source": [
        "# 4.\tWrite a Python program to solve quadratic equation?\n",
        "\n",
        "# import complex math module\n",
        "import cmath\n",
        "\n",
        "a = 1\n",
        "b = 4\n",
        "c = 2\n",
        "\n",
        "# calculating the discriminant\n",
        "dis = (b**2) - (4 * a*c)\n",
        "\n",
        "# find two results\n",
        "ans1 = (-b-cmath.sqrt(dis))/(2 * a)\n",
        "ans2 = (-b + cmath.sqrt(dis))/(2 * a)\n",
        "\n",
        "# printing the results\n",
        "print('The roots are')\n",
        "print(ans1)\n",
        "print(ans2)\n"
      ],
      "metadata": {
        "colab": {
          "base_uri": "https://localhost:8080/"
        },
        "id": "wl7E7SWSWzSr",
        "outputId": "f5680321-d0d2-4a85-98d6-6ae554079692"
      },
      "execution_count": 11,
      "outputs": [
        {
          "output_type": "stream",
          "name": "stdout",
          "text": [
            "The roots are\n",
            "(-3.414213562373095+0j)\n",
            "(-0.5857864376269049+0j)\n"
          ]
        }
      ]
    },
    {
      "cell_type": "code",
      "source": [
        "# 5.\tWrite a Python program to swap two variables without temp variable?\n",
        "\n",
        "x = int(input('enter a 1st value...'))\n",
        "y = int(input('enter a 2nd value...'))\n",
        "\n",
        "x,y = y,x\n",
        "\n",
        "print('x value after swaping', x)\n",
        "print('y avlue after swaping',y)"
      ],
      "metadata": {
        "colab": {
          "base_uri": "https://localhost:8080/"
        },
        "id": "W1B0O0clYeUG",
        "outputId": "2ad9b887-f769-4305-f118-cb30dba0c64f"
      },
      "execution_count": 12,
      "outputs": [
        {
          "output_type": "stream",
          "name": "stdout",
          "text": [
            "enter a 1st value...4\n",
            "enter a 2nd value...5\n",
            "x value after swaping 5\n",
            "y avlue after swaping 4\n"
          ]
        }
      ]
    },
    {
      "cell_type": "code",
      "source": [],
      "metadata": {
        "id": "3EjLXfZ4ZG0V"
      },
      "execution_count": null,
      "outputs": []
    }
  ]
}