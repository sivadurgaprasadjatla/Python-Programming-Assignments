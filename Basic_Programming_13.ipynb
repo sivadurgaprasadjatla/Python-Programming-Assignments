{
  "nbformat": 4,
  "nbformat_minor": 0,
  "metadata": {
    "colab": {
      "provenance": []
    },
    "kernelspec": {
      "name": "python3",
      "display_name": "Python 3"
    },
    "language_info": {
      "name": "python"
    }
  },
  "cells": [
    {
      "cell_type": "code",
      "source": [],
      "metadata": {
        "id": "WVy1HCGCftZD"
      },
      "execution_count": null,
      "outputs": []
    },
    {
      "cell_type": "code",
      "source": [
        "'''Question 1:\n",
        "\n",
        "Write a program that calculates and prints the value according to the given formula:\n",
        "\n",
        "Q = Square root of [(2 * C * D)/H]\n",
        "\n",
        "Following are the fixed values of C and H:\n",
        "\n",
        "C is 50. H is 30.\n",
        "\n",
        "D is the variable whose values should be input to your program in a comma-separated sequence.\n",
        "\n",
        "Example\n",
        "\n",
        "Let us assume the following comma separated input sequence is given to the program:\n",
        "\n",
        "100,150,180\n",
        "\n",
        "The output of the program should be:\n",
        "\n",
        "18,22,24 '''\n"
      ],
      "metadata": {
        "id": "wspUzGfZcIJX"
      },
      "execution_count": null,
      "outputs": []
    },
    {
      "cell_type": "code",
      "source": [
        "import math\n",
        "\n",
        "c = 50\n",
        "h = 30\n",
        "\n",
        "d = input('enter values')\n",
        "d = d.split(',')\n",
        "\n",
        "for i in d:\n",
        "  a = round(math.sqrt((2*c*int(i))/h),3)\n",
        "  print(a)\n"
      ],
      "metadata": {
        "colab": {
          "base_uri": "https://localhost:8080/"
        },
        "id": "axgpNqxpf4qF",
        "outputId": "de962da8-3968-437b-cb80-771f4921e472"
      },
      "execution_count": 12,
      "outputs": [
        {
          "output_type": "stream",
          "name": "stdout",
          "text": [
            "enter values2,3,4\n",
            "2.582\n",
            "3.162\n",
            "3.651\n"
          ]
        }
      ]
    },
    {
      "cell_type": "code",
      "source": [],
      "metadata": {
        "colab": {
          "base_uri": "https://localhost:8080/"
        },
        "id": "bCqpnZEggBva",
        "outputId": "1d618bd7-df61-4f82-905c-8b8e0a7a641a"
      },
      "execution_count": 6,
      "outputs": [
        {
          "output_type": "stream",
          "name": "stdout",
          "text": [
            "2.581988897471611\n"
          ]
        }
      ]
    },
    {
      "cell_type": "code",
      "source": [],
      "metadata": {
        "id": "8NvjzLyztFUX"
      },
      "execution_count": null,
      "outputs": []
    },
    {
      "cell_type": "code",
      "source": [
        "'''\n",
        "Question 2:\n",
        "Write a program which takes 2 digits, X,Y as input and generates a 2-dimensional array. \n",
        "The element value in the i-th row and j-th column of the array should be i*j.\n",
        "\n",
        "Note: i=0,1.., X-1; j=0,1,¡¬Y-1.\n",
        "\n",
        "Example\n",
        "\n",
        "Suppose the following inputs are given to the program:\n",
        "\n",
        "3,5\n",
        "\n",
        "Then, the output of the program should be:\n",
        "\n",
        "[[0, 0, 0, 0, 0],\n",
        " [0, 1, 2, 3, 4],\n",
        " [0, 2, 4, 6, 8]] \n",
        "\n",
        "'''\n"
      ],
      "metadata": {
        "id": "4EtYBCnZcREd"
      },
      "execution_count": null,
      "outputs": []
    },
    {
      "cell_type": "code",
      "source": [
        "import numpy as np\n",
        "\n",
        "a = 3\n",
        "b = 5\n",
        "c = []\n",
        "\n",
        "for i in range(a):\n",
        "  d = []\n",
        "  for j in range(b):\n",
        "    d.append(i*j)\n",
        "  c.append(d)\n",
        "\n",
        "\n",
        "print(np.array(c))\n"
      ],
      "metadata": {
        "colab": {
          "base_uri": "https://localhost:8080/"
        },
        "id": "vvL3upvUt6WR",
        "outputId": "17ae97f0-abba-439e-f78f-6663bd38bef1"
      },
      "execution_count": 14,
      "outputs": [
        {
          "output_type": "stream",
          "name": "stdout",
          "text": [
            "[[0 0 0 0 0]\n",
            " [0 1 2 3 4]\n",
            " [0 2 4 6 8]]\n"
          ]
        }
      ]
    },
    {
      "cell_type": "code",
      "source": [],
      "metadata": {
        "id": "XSzCZOXvuiqh"
      },
      "execution_count": null,
      "outputs": []
    },
    {
      "cell_type": "code",
      "source": [
        "\n",
        "'''\n",
        "Question 3:\n",
        "Write a program that accepts a comma separated sequence of words as input and prints the words in a comma-separated sequence after sorting them alphabetically.\n",
        "\n",
        "Suppose the following input is supplied to the program:\n",
        "\n",
        "without,hello,bag,world\n",
        "\n",
        "Then, the output should be:\n",
        "\n",
        "bag,hello,without,world\n",
        "\n",
        "'''\n"
      ],
      "metadata": {
        "id": "f_dVEQJvceJI"
      },
      "execution_count": null,
      "outputs": []
    },
    {
      "cell_type": "code",
      "source": [
        "a = input('enter input words ...')\n",
        "\n",
        "a = a.split(',')\n",
        "\n",
        "\n",
        "print(sorted(a))"
      ],
      "metadata": {
        "colab": {
          "base_uri": "https://localhost:8080/"
        },
        "id": "HUFb7smiu-mw",
        "outputId": "8c54efda-170e-48b7-b6a0-645bb8f00543"
      },
      "execution_count": 17,
      "outputs": [
        {
          "output_type": "stream",
          "name": "stdout",
          "text": [
            "enter input words ...without,hello,bag,world\n",
            "['bag', 'hello', 'without', 'world']\n"
          ]
        }
      ]
    },
    {
      "cell_type": "code",
      "source": [],
      "metadata": {
        "id": "gGC9O2b2vGz6"
      },
      "execution_count": null,
      "outputs": []
    },
    {
      "cell_type": "code",
      "source": [
        "'''\n",
        "\n",
        "Question 4:\n",
        "Write a program that accepts a sequence of whitespace separated words as input and prints the words after removing all duplicate words and sorting them alphanumerically.\n",
        "\n",
        "Suppose the following input is supplied to the program:\n",
        "\n",
        "hello world and practice makes perfect and hello world again\n",
        "\n",
        "Then, the output should be:\n",
        "\n",
        "again and hello makes perfect practice world '''\n",
        "\n"
      ],
      "metadata": {
        "id": "sEITj3JDchzi"
      },
      "execution_count": null,
      "outputs": []
    },
    {
      "cell_type": "code",
      "source": [
        "a = input('enter space seperated values...')\n",
        "\n",
        "a = list(set(a.split()))\n",
        "\n",
        "print(sorted(a))"
      ],
      "metadata": {
        "colab": {
          "base_uri": "https://localhost:8080/"
        },
        "id": "hu6ThFN2vj9D",
        "outputId": "9b101475-6989-4ccf-acf7-0aa302af3cd2"
      },
      "execution_count": 19,
      "outputs": [
        {
          "output_type": "stream",
          "name": "stdout",
          "text": [
            "enter space seperated values...hello world and practice makes perfect and hello world again\n",
            "['again', 'and', 'hello', 'makes', 'perfect', 'practice', 'world']\n"
          ]
        }
      ]
    },
    {
      "cell_type": "code",
      "source": [],
      "metadata": {
        "id": "aazV2xBmvuRT"
      },
      "execution_count": null,
      "outputs": []
    },
    {
      "cell_type": "code",
      "source": [
        "'''\n",
        "\n",
        "Question 5:\n",
        "\n",
        "Write a program that accepts a sentence and calculate the number of letters and digits.\n",
        "\n",
        "Suppose the following input is supplied to the program:\n",
        "\n",
        "hello world! 123\n",
        "\n",
        "Then, the output should be:\n",
        "\n",
        "LETTERS 10\n",
        "\n",
        "DIGITS 3\n",
        "\n",
        "'''\n"
      ],
      "metadata": {
        "id": "x4BezqSCcpuL"
      },
      "execution_count": null,
      "outputs": []
    },
    {
      "cell_type": "code",
      "source": [
        "a = 'hello world! 123'\n",
        "letters = 0\n",
        "Digits = 0\n",
        "\n",
        "for i in a:\n",
        "  if i.isalpha():\n",
        "    letters = letters+1\n",
        "  if i.isnumeric():\n",
        "    Digits = Digits+1\n",
        "\n",
        "print(letters)\n",
        "print(Digits)\n"
      ],
      "metadata": {
        "colab": {
          "base_uri": "https://localhost:8080/"
        },
        "id": "IM96D2rZwJ1U",
        "outputId": "f68f2e1d-d2d8-4e2c-f717-b1986fe65c11"
      },
      "execution_count": 28,
      "outputs": [
        {
          "output_type": "stream",
          "name": "stdout",
          "text": [
            "10\n",
            "3\n"
          ]
        }
      ]
    },
    {
      "cell_type": "code",
      "source": [],
      "metadata": {
        "id": "fcudGQbgyfbY"
      },
      "execution_count": null,
      "outputs": []
    },
    {
      "cell_type": "code",
      "source": [
        "'''\n",
        "Question 6:\n",
        "A website requires the users to input username and password to register. Write a program to check the validity of password input by users.\n",
        "\n",
        "Following are the criteria for checking the password:\n",
        "\n",
        "1. At least 1 letter between [a-z]\n",
        "\n",
        "2. At least 1 number between [0-9]\n",
        "\n",
        "1. At least 1 letter between [A-Z]\n",
        "\n",
        "3. At least 1 character from [$#@]\n",
        "\n",
        "4. Minimum length of transaction password: 6\n",
        "\n",
        "5. Maximum length of transaction password: 12\n",
        "\n",
        "Your program should accept a sequence of comma separated passwords and will check them according to the above criteria. Passwords that match the criteria are to be printed, each separated by a comma.\n",
        "\n",
        "Example\n",
        "\n",
        "If the following passwords are given as input to the program:\n",
        "\n",
        "ABd1234@1,a F1#,2w3E*,2We3345\n",
        "\n",
        "Then, the output of the program should be:\n",
        "\n",
        "ABd1234@1\n",
        " '''"
      ],
      "metadata": {
        "id": "nkjAJA1ncu7c"
      },
      "execution_count": null,
      "outputs": []
    },
    {
      "cell_type": "code",
      "source": [
        "import string\n",
        "import re\n",
        "\n",
        "a = input('enter pass word..')\n",
        "\n",
        "x = True\n",
        "b = string.punctuation\n",
        "\n",
        "while x :\n",
        "  if not 6<len(a) or len(a)>12 :\n",
        "    print('its not valid password..')\n",
        "    break\n",
        "  elif not re.search('[a-z]',a) :\n",
        "    print('its not valid password..')\n",
        "    break\n",
        "  elif not re.search('[0-9]',a) :\n",
        "    print('its not valid password..')\n",
        "    break\n",
        "  elif not re.search('[A-z]',a) :\n",
        "    print('its not valid password...')\n",
        "    break\n",
        "\n",
        "  elif not re.search('[$#@]',a):\n",
        "    print('its not valid password...')\n",
        "    break\n",
        "\n",
        "  else :\n",
        "    print('valid password..')\n",
        "    x = False\n",
        "    break\n",
        "\n",
        "if x :\n",
        "  print('Not a valid Password...')\n",
        "\n"
      ],
      "metadata": {
        "colab": {
          "base_uri": "https://localhost:8080/"
        },
        "id": "Daprbp0Y2HO3",
        "outputId": "f59944e7-a8b6-4460-bb98-2b8f158ef382"
      },
      "execution_count": 34,
      "outputs": [
        {
          "output_type": "stream",
          "name": "stdout",
          "text": [
            "enter pass word..Siva@1234\n",
            "valid password..\n"
          ]
        }
      ]
    },
    {
      "cell_type": "code",
      "source": [],
      "metadata": {
        "id": "TfSjjU-h3glq"
      },
      "execution_count": null,
      "outputs": []
    }
  ]
}