{
  "nbformat": 4,
  "nbformat_minor": 0,
  "metadata": {
    "colab": {
      "provenance": []
    },
    "kernelspec": {
      "name": "python3",
      "display_name": "Python 3"
    },
    "language_info": {
      "name": "python"
    }
  },
  "cells": [
    {
      "cell_type": "code",
      "source": [
        "'''Question 1:\n",
        "\n",
        "Please write a program using generator to print the numbers which can be divisible by 5 and 7 between 0 and n in comma separated form while n is input by console.\n",
        "\n",
        "\n",
        "Example:\n",
        "If the following n is given as input to the program:\n",
        "100\n",
        "Then, the output of the program should be:\n",
        "0,35,70\n",
        "\n",
        "'''\n"
      ],
      "metadata": {
        "id": "zWx41tP5meIm"
      },
      "execution_count": null,
      "outputs": []
    },
    {
      "cell_type": "code",
      "source": [
        "def values(n):\n",
        "  \n",
        "  for i in range(n):\n",
        "    if i%5 == 0 and i%7 == 0:\n",
        "      yield i\n",
        "\n",
        "l=[]\n",
        "\n",
        "for i in values(100):\n",
        "  l.append(i)\n",
        "\n",
        "print(l)"
      ],
      "metadata": {
        "colab": {
          "base_uri": "https://localhost:8080/"
        },
        "id": "4EavbxbBn9Xz",
        "outputId": "48579187-e07d-4ed2-de90-7d56510a11dc"
      },
      "execution_count": null,
      "outputs": [
        {
          "output_type": "stream",
          "name": "stdout",
          "text": [
            "[0, 35, 70]\n"
          ]
        }
      ]
    },
    {
      "cell_type": "code",
      "source": [
        "'''\n",
        "Question 2:\n",
        "Please write a program using generator to print the even numbers between 0 and n in comma separated form while n is input by console.\n",
        "Example:\n",
        "If the following n is given as input to the program:\n",
        "10\n",
        "Then, the output of the program should be:\n",
        "0,2,4,6,8,10\n",
        "\n",
        "'''\n",
        "\n"
      ],
      "metadata": {
        "id": "27o7KzDrnL2S"
      },
      "execution_count": null,
      "outputs": []
    },
    {
      "cell_type": "code",
      "source": [
        "def even_numbers(n):\n",
        "  for i in range(n):\n",
        "    if i%2 == 0 :\n",
        "      yield i\n",
        "\n",
        "for i in even_numbers(10):\n",
        "  print(i)"
      ],
      "metadata": {
        "colab": {
          "base_uri": "https://localhost:8080/"
        },
        "id": "KsYOFLynrAak",
        "outputId": "8f1a3e79-cf3d-4246-b933-79b852022819"
      },
      "execution_count": null,
      "outputs": [
        {
          "output_type": "stream",
          "name": "stdout",
          "text": [
            "0\n",
            "2\n",
            "4\n",
            "6\n",
            "8\n"
          ]
        }
      ]
    },
    {
      "cell_type": "code",
      "source": [
        "'''\n",
        "Question 3:\n",
        "The Fibonacci Sequence is computed based on the following formula:\n",
        "f(n)=0 if n=0\n",
        "f(n)=1 if n=1\n",
        "f(n)=f(n-1)+f(n-2) if n>1\n",
        "Please write a program using list comprehension to print the Fibonacci Sequence in comma separated form with a given n input by console.\n",
        "Example:\n",
        "If the following n is given as input to the program:\n",
        "7\n",
        "\n",
        "Then, the output of the program should be:\n",
        "0,1,1,2,3,5,8,13\n",
        "\n",
        "'''\n",
        "\n"
      ],
      "metadata": {
        "id": "dFbY7hBVnT5N"
      },
      "execution_count": null,
      "outputs": []
    },
    {
      "cell_type": "code",
      "source": [
        "def feb(n):\n",
        "  if n==0:\n",
        "    return 0\n",
        "\n",
        "  if n==1:\n",
        "    return 1\n",
        "\n",
        "  if n>=2:\n",
        "    return feb(n-1)+feb(n-2)\n",
        "\n",
        "n= int(input('enter a number...'))\n",
        "\n",
        "l = []\n",
        "\n",
        "for i in range(0,n):\n",
        "  l.append(feb(i))\n",
        "\n",
        "print(l)\n"
      ],
      "metadata": {
        "colab": {
          "base_uri": "https://localhost:8080/"
        },
        "id": "NQgGuO7YrVDY",
        "outputId": "e2f2e8d6-75e4-41a2-ff2d-12b750b3b931"
      },
      "execution_count": 8,
      "outputs": [
        {
          "output_type": "stream",
          "name": "stdout",
          "text": [
            "enter a number...5\n",
            "[0, 1, 1, 2, 3]\n"
          ]
        }
      ]
    },
    {
      "cell_type": "code",
      "source": [
        "u = [str(feb(i)) for i in range(5)]\n",
        "print(','.join(u))"
      ],
      "metadata": {
        "colab": {
          "base_uri": "https://localhost:8080/"
        },
        "id": "1s9X42-lEqpg",
        "outputId": "87e39af5-0d77-4c48-cf0b-59a0a5d51514"
      },
      "execution_count": 12,
      "outputs": [
        {
          "output_type": "stream",
          "name": "stdout",
          "text": [
            "0,1,1,2,3\n"
          ]
        }
      ]
    },
    {
      "cell_type": "code",
      "source": [
        "'''\n",
        "Question 4:\n",
        "Assuming that we have some email addresses in the \"username@companyname.com\" format, please write program to print the user name of a given email address. Both user names and company names are composed of letters only.\n",
        "Example:\n",
        "If the following email address is given as input to the program:\n",
        "john@google.com\n",
        "Then, the output of the program should be:\n",
        "john\n",
        "\n",
        "'''\n",
        "\n"
      ],
      "metadata": {
        "id": "rtrwejrGnYoH"
      },
      "execution_count": null,
      "outputs": []
    },
    {
      "cell_type": "code",
      "source": [
        "a = 'siva@gmail.com'\n",
        "\n",
        "a = a.split('@')\n",
        "\n",
        "print(a[0])"
      ],
      "metadata": {
        "colab": {
          "base_uri": "https://localhost:8080/"
        },
        "id": "cgKwO9Hap08J",
        "outputId": "4038a8f3-50c1-4d7d-d078-9dd538f2d1cf"
      },
      "execution_count": null,
      "outputs": [
        {
          "output_type": "stream",
          "name": "stdout",
          "text": [
            "siva\n"
          ]
        }
      ]
    },
    {
      "cell_type": "code",
      "source": [
        "'''\n",
        "\n",
        "Question 5:\n",
        "Define a class named Shape and its subclass Square. \n",
        "The Square class has an init function which takes a length as argument. \n",
        "Both classes have a area function which can print the area of the shape where Shape's area is 0 by default.\n",
        "\n",
        "'''"
      ],
      "metadata": {
        "id": "tSXBxUlrnb2g"
      },
      "execution_count": null,
      "outputs": []
    },
    {
      "cell_type": "code",
      "source": [
        "class shape :\n",
        "  def __init__(self):\n",
        "    pass\n",
        "\n",
        "  def area(self):\n",
        "    return 0\n",
        "\n",
        "class square(shape):\n",
        "  def __init__(self,l):\n",
        "    shape.__init__(self)\n",
        "    self.length = l\n",
        "\n",
        "  def area(self):\n",
        "    return self.length*self.length\n",
        "\n",
        "\n",
        "a = square(4)\n",
        "print(a.area())"
      ],
      "metadata": {
        "colab": {
          "base_uri": "https://localhost:8080/"
        },
        "id": "lcI9opWp9dll",
        "outputId": "7e64b1ce-d24f-428c-ef58-27dd63a44eb4"
      },
      "execution_count": 2,
      "outputs": [
        {
          "output_type": "stream",
          "name": "stdout",
          "text": [
            "16\n"
          ]
        }
      ]
    },
    {
      "cell_type": "code",
      "source": [],
      "metadata": {
        "id": "N_f09oOI_I2x"
      },
      "execution_count": null,
      "outputs": []
    }
  ]
}