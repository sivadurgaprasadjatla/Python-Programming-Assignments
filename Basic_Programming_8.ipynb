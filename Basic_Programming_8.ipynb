{
  "nbformat": 4,
  "nbformat_minor": 0,
  "metadata": {
    "colab": {
      "provenance": []
    },
    "kernelspec": {
      "name": "python3",
      "display_name": "Python 3"
    },
    "language_info": {
      "name": "python"
    }
  },
  "cells": [
    {
      "cell_type": "code",
      "execution_count": 10,
      "metadata": {
        "colab": {
          "base_uri": "https://localhost:8080/"
        },
        "id": "M5QwtT2YTY_s",
        "outputId": "7593fbd7-c961-44c2-e3cc-9b5530c79854"
      },
      "outputs": [
        {
          "output_type": "stream",
          "name": "stdout",
          "text": [
            "[3 5]\n"
          ]
        }
      ],
      "source": [
        "# 1.\tWrite a Python Program to Add Two Matrices?\n",
        "\n",
        "import numpy as np\n",
        "\n",
        "l = [1,2]\n",
        "l1 = [2,3]\n",
        "\n",
        "l = np.array(l)\n",
        "l1 = np.array(l1)\n",
        "\n",
        "print((l+l1))"
      ]
    },
    {
      "cell_type": "code",
      "source": [
        "# 2.\tWrite a Python Program to Multiply Two Matrices?\n",
        "\n",
        "l = [1,2]\n",
        "l1 = [2,3]\n",
        "\n",
        "l = np.array(l)\n",
        "l1 = np.array(l1)\n",
        "\n",
        "print(l*l1)"
      ],
      "metadata": {
        "colab": {
          "base_uri": "https://localhost:8080/"
        },
        "id": "puRnhVxyTiHK",
        "outputId": "0db9645d-563b-4352-b4e3-eaad28f1fe00"
      },
      "execution_count": 11,
      "outputs": [
        {
          "output_type": "stream",
          "name": "stdout",
          "text": [
            "[2 6]\n"
          ]
        }
      ]
    },
    {
      "cell_type": "code",
      "source": [
        "# 3.\tWrite a Python Program to Transpose a Matrix?\n",
        "\n",
        "a = [[1,2,3],[4,5,6],[7,8,9]]\n",
        "\n",
        "a = np.array(a)\n",
        "\n",
        "print(a.T)\n",
        "\n",
        "print(np.transpose(a))"
      ],
      "metadata": {
        "colab": {
          "base_uri": "https://localhost:8080/"
        },
        "id": "FGGn_L8YTjgU",
        "outputId": "297003cb-2792-4e51-9542-2e9d5a53a6c7"
      },
      "execution_count": 22,
      "outputs": [
        {
          "output_type": "stream",
          "name": "stdout",
          "text": [
            "[[1 4 7]\n",
            " [2 5 8]\n",
            " [3 6 9]]\n",
            "[[1 4 7]\n",
            " [2 5 8]\n",
            " [3 6 9]]\n"
          ]
        }
      ]
    },
    {
      "cell_type": "code",
      "source": [
        "# 4.\tWrite a Python Program to Sort Words in Alphabetic Order?\n",
        "\n",
        "a = 'i am siva durga prasad and i would like to becom an datascientist'\n",
        "\n",
        "a = a.split()\n",
        "\n",
        "print(a.sort())\n"
      ],
      "metadata": {
        "colab": {
          "base_uri": "https://localhost:8080/"
        },
        "id": "l5KYXMwpTkxO",
        "outputId": "c1b4552c-5eed-4420-b350-8974d8704d8b"
      },
      "execution_count": 27,
      "outputs": [
        {
          "output_type": "stream",
          "name": "stdout",
          "text": [
            "None\n"
          ]
        }
      ]
    },
    {
      "cell_type": "code",
      "source": [
        "# 5.\tWrite a Python Program to Remove Punctuation From a String?\n",
        "\n",
        "import re\n",
        "\n",
        "test_str = \"Gfg, is best : for ! Geeks ;\"\n",
        "\n",
        "\n",
        "print(\"The original string is : \" + test_str)\n",
        "\n",
        "\n",
        "res = re.sub(r'[^\\w\\s]', '', test_str)\n",
        "\n",
        "# printing result\n",
        "print(\"The string after punctuation filter : \" + res)\n"
      ],
      "metadata": {
        "colab": {
          "base_uri": "https://localhost:8080/"
        },
        "id": "PFks0grkTlzy",
        "outputId": "ff3ae347-6f6b-45db-d192-e974129c879f"
      },
      "execution_count": 19,
      "outputs": [
        {
          "output_type": "stream",
          "name": "stdout",
          "text": [
            "The original string is : Gfg, is best : for ! Geeks ;\n",
            "The string after punctuation filter : Gfg is best  for  Geeks \n"
          ]
        }
      ]
    },
    {
      "cell_type": "code",
      "source": [],
      "metadata": {
        "id": "f0Mn1ZWZaDgH"
      },
      "execution_count": null,
      "outputs": []
    }
  ]
}