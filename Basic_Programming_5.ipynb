{
  "nbformat": 4,
  "nbformat_minor": 0,
  "metadata": {
    "colab": {
      "provenance": []
    },
    "kernelspec": {
      "name": "python3",
      "display_name": "Python 3"
    },
    "language_info": {
      "name": "python"
    }
  },
  "cells": [
    {
      "cell_type": "code",
      "execution_count": 8,
      "metadata": {
        "id": "XxXyoX9xugYB"
      },
      "outputs": [],
      "source": [
        "# 1.\tWrite a Python Program to Find LCM?\n",
        "\n",
        "def lcm(a,b,c=0):\n",
        "  if a>b:\n",
        "    a,b = b,a\n",
        "    return lcm(a,b,c =0)\n",
        "  \n",
        "\n",
        "  c = c+b\n",
        "\n",
        "  if c%a == 0 and c%b == 0:\n",
        "    return c\n",
        "  \n",
        "  else :\n",
        "    return lcm(a,b,c)"
      ]
    },
    {
      "cell_type": "code",
      "source": [
        "lcm(5,12)"
      ],
      "metadata": {
        "colab": {
          "base_uri": "https://localhost:8080/"
        },
        "id": "DzOZKH5dwtsJ",
        "outputId": "22506eb7-cb46-4089-aa18-968b062fff7d"
      },
      "execution_count": 9,
      "outputs": [
        {
          "output_type": "execute_result",
          "data": {
            "text/plain": [
              "60"
            ]
          },
          "metadata": {},
          "execution_count": 9
        }
      ]
    },
    {
      "cell_type": "code",
      "source": [
        "# 2.\tWrite a Python Program to Find HCF?\n",
        "\n",
        "def HCF(a,b):\n",
        "  c = max(a,b)\n",
        "  d = min(a,b)\n",
        "\n",
        "  if c==d :\n",
        "    return c\n",
        "\n",
        "  else :\n",
        "    return HCF(c-d,d)"
      ],
      "metadata": {
        "id": "OuthyTqvu6-I"
      },
      "execution_count": 12,
      "outputs": []
    },
    {
      "cell_type": "code",
      "source": [
        "HCF(10,25)"
      ],
      "metadata": {
        "colab": {
          "base_uri": "https://localhost:8080/"
        },
        "id": "UHtfGcERx6Gg",
        "outputId": "6614ae9b-93fb-4c10-aa87-0e5c08f51bd5"
      },
      "execution_count": 13,
      "outputs": [
        {
          "output_type": "execute_result",
          "data": {
            "text/plain": [
              "5"
            ]
          },
          "metadata": {},
          "execution_count": 13
        }
      ]
    },
    {
      "cell_type": "code",
      "source": [
        "# 3.\tWrite a Python Program to Convert Decimal to Binary, Octal and Hexadecimal?\n",
        "\n",
        "a = int(input('enter a number'))\n",
        "\n",
        "# Decimal to Binary number\n",
        "print(bin(a)[2:])\n",
        "\n",
        "#Decimal to Octal Number\n",
        "print(oct(a)[2:])\n",
        "\n",
        "#Decimal to Hexadecimal\n",
        "print(hex(a)[2:])"
      ],
      "metadata": {
        "id": "2OzzpA00u-ur",
        "colab": {
          "base_uri": "https://localhost:8080/"
        },
        "outputId": "2bc57a17-ba73-4889-8ea0-f72cd9f161d3"
      },
      "execution_count": 20,
      "outputs": [
        {
          "output_type": "stream",
          "name": "stdout",
          "text": [
            "enter a number17\n",
            "10001\n",
            "21\n",
            "11\n"
          ]
        }
      ]
    },
    {
      "cell_type": "code",
      "source": [
        "# 4.\tWrite a Python Program To Find ASCII value of a character?\n",
        "\n",
        "a = input('enter a value...')\n",
        "\n",
        "print(ord(a))"
      ],
      "metadata": {
        "id": "9ypa2izXu_bl",
        "colab": {
          "base_uri": "https://localhost:8080/"
        },
        "outputId": "693a42a1-a9e0-4eef-e186-cac5d54834cf"
      },
      "execution_count": 23,
      "outputs": [
        {
          "output_type": "stream",
          "name": "stdout",
          "text": [
            "enter a value...r\n",
            "114\n"
          ]
        }
      ]
    },
    {
      "cell_type": "code",
      "source": [
        "# 5.\tWrite a Python Program to Make a Simple Calculator with 4 basic mathematical operations?\n",
        "\n",
        "# This function adds two numbers\n",
        "def add(x, y):\n",
        "    return x + y\n",
        "\n",
        "# This function subtracts two numbers\n",
        "def subtract(x, y):\n",
        "    return x - y\n",
        "\n",
        "# This function multiplies two numbers\n",
        "def multiply(x, y):\n",
        "    return x * y\n",
        "\n",
        "# This function divides two numbers\n",
        "def divide(x, y):\n",
        "    return x / y\n",
        "\n",
        "\n",
        "print(\"Select operation.\")\n",
        "print(\"1.Add\")\n",
        "print(\"2.Subtract\")\n",
        "print(\"3.Multiply\")\n",
        "print(\"4.Divide\")\n",
        "\n",
        "while True:\n",
        "    # take input from the user\n",
        "    choice = input(\"Enter choice(1/2/3/4): \")\n",
        "\n",
        "    # check if choice is one of the four options\n",
        "    if choice in ('1', '2', '3', '4'):\n",
        "        try:\n",
        "            num1 = float(input(\"Enter first number: \"))\n",
        "            num2 = float(input(\"Enter second number: \"))\n",
        "        except ValueError:\n",
        "            print(\"Invalid input. Please enter a number.\")\n",
        "            continue\n",
        "\n",
        "        if choice == '1':\n",
        "            print(num1, \"+\", num2, \"=\", add(num1, num2))\n",
        "\n",
        "        elif choice == '2':\n",
        "            print(num1, \"-\", num2, \"=\", subtract(num1, num2))\n",
        "\n",
        "        elif choice == '3':\n",
        "            print(num1, \"*\", num2, \"=\", multiply(num1, num2))\n",
        "\n",
        "        elif choice == '4':\n",
        "            print(num1, \"/\", num2, \"=\", divide(num1, num2))\n",
        "        \n",
        "        # check if user wants another calculation\n",
        "        # break the while loop if answer is no\n",
        "        next_calculation = input(\"Let's do next calculation? (yes/no): \")\n",
        "        if next_calculation == \"no\":\n",
        "          break\n",
        "    else:\n",
        "        print(\"Invalid Input\")"
      ],
      "metadata": {
        "id": "-sRZr8XhvA_u",
        "colab": {
          "base_uri": "https://localhost:8080/"
        },
        "outputId": "66c1b750-1034-486f-8a8a-e3051dfc5183"
      },
      "execution_count": 25,
      "outputs": [
        {
          "name": "stdout",
          "output_type": "stream",
          "text": [
            "Select operation.\n",
            "1.Add\n",
            "2.Subtract\n",
            "3.Multiply\n",
            "4.Divide\n",
            "Enter choice(1/2/3/4): 4\n",
            "Enter first number: 12\n",
            "Enter second number: two\n",
            "Invalid input. Please enter a number.\n",
            "Enter choice(1/2/3/4): 4\n",
            "Enter first number: 12\n",
            "Enter second number: 2\n",
            "12.0 / 2.0 = 6.0\n",
            "Let's do next calculation? (yes/no): no\n"
          ]
        }
      ]
    },
    {
      "cell_type": "code",
      "source": [],
      "metadata": {
        "id": "qqTmy9JFxyp-"
      },
      "execution_count": null,
      "outputs": []
    }
  ]
}